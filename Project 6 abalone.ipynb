{
 "cells": [
  {
   "cell_type": "code",
   "execution_count": 2,
   "metadata": {},
   "outputs": [],
   "source": [
    "import pandas as pd\n",
    "import numpy as np\n",
    "from sklearn.metrics import r2_score, mean_squared_error\n",
    "from sklearn.preprocessing import LabelEncoder\n",
    "import matplotlib.pyplot as plt\n",
    "import seaborn as sns\n",
    "import warnings\n",
    "warnings.filterwarnings('ignore')"
   ]
  },
  {
   "cell_type": "code",
   "execution_count": 3,
   "metadata": {},
   "outputs": [
    {
     "data": {
      "text/html": [
       "<div>\n",
       "<style scoped>\n",
       "    .dataframe tbody tr th:only-of-type {\n",
       "        vertical-align: middle;\n",
       "    }\n",
       "\n",
       "    .dataframe tbody tr th {\n",
       "        vertical-align: top;\n",
       "    }\n",
       "\n",
       "    .dataframe thead th {\n",
       "        text-align: right;\n",
       "    }\n",
       "</style>\n",
       "<table border=\"1\" class=\"dataframe\">\n",
       "  <thead>\n",
       "    <tr style=\"text-align: right;\">\n",
       "      <th></th>\n",
       "      <th>Q</th>\n",
       "      <th>Q1</th>\n",
       "      <th>Q2</th>\n",
       "      <th>Q3</th>\n",
       "      <th>Q4</th>\n",
       "      <th>Q5</th>\n",
       "      <th>Q6</th>\n",
       "      <th>Q7</th>\n",
       "      <th>OUT</th>\n",
       "    </tr>\n",
       "  </thead>\n",
       "  <tbody>\n",
       "    <tr>\n",
       "      <th>0</th>\n",
       "      <td>M</td>\n",
       "      <td>0.455</td>\n",
       "      <td>0.365</td>\n",
       "      <td>0.095</td>\n",
       "      <td>0.5140</td>\n",
       "      <td>0.2245</td>\n",
       "      <td>0.1010</td>\n",
       "      <td>0.150</td>\n",
       "      <td>15</td>\n",
       "    </tr>\n",
       "    <tr>\n",
       "      <th>1</th>\n",
       "      <td>M</td>\n",
       "      <td>0.350</td>\n",
       "      <td>0.265</td>\n",
       "      <td>0.090</td>\n",
       "      <td>0.2255</td>\n",
       "      <td>0.0995</td>\n",
       "      <td>0.0485</td>\n",
       "      <td>0.070</td>\n",
       "      <td>7</td>\n",
       "    </tr>\n",
       "    <tr>\n",
       "      <th>2</th>\n",
       "      <td>F</td>\n",
       "      <td>0.530</td>\n",
       "      <td>0.420</td>\n",
       "      <td>0.135</td>\n",
       "      <td>0.6770</td>\n",
       "      <td>0.2565</td>\n",
       "      <td>0.1415</td>\n",
       "      <td>0.210</td>\n",
       "      <td>9</td>\n",
       "    </tr>\n",
       "    <tr>\n",
       "      <th>3</th>\n",
       "      <td>M</td>\n",
       "      <td>0.440</td>\n",
       "      <td>0.365</td>\n",
       "      <td>0.125</td>\n",
       "      <td>0.5160</td>\n",
       "      <td>0.2155</td>\n",
       "      <td>0.1140</td>\n",
       "      <td>0.155</td>\n",
       "      <td>10</td>\n",
       "    </tr>\n",
       "    <tr>\n",
       "      <th>4</th>\n",
       "      <td>I</td>\n",
       "      <td>0.330</td>\n",
       "      <td>0.255</td>\n",
       "      <td>0.080</td>\n",
       "      <td>0.2050</td>\n",
       "      <td>0.0895</td>\n",
       "      <td>0.0395</td>\n",
       "      <td>0.055</td>\n",
       "      <td>7</td>\n",
       "    </tr>\n",
       "  </tbody>\n",
       "</table>\n",
       "</div>"
      ],
      "text/plain": [
       "   Q     Q1     Q2     Q3      Q4      Q5      Q6     Q7  OUT\n",
       "0  M  0.455  0.365  0.095  0.5140  0.2245  0.1010  0.150   15\n",
       "1  M  0.350  0.265  0.090  0.2255  0.0995  0.0485  0.070    7\n",
       "2  F  0.530  0.420  0.135  0.6770  0.2565  0.1415  0.210    9\n",
       "3  M  0.440  0.365  0.125  0.5160  0.2155  0.1140  0.155   10\n",
       "4  I  0.330  0.255  0.080  0.2050  0.0895  0.0395  0.055    7"
      ]
     },
     "execution_count": 3,
     "metadata": {},
     "output_type": "execute_result"
    }
   ],
   "source": [
    "df = pd.read_csv('abalone1.csv')\n",
    "df.head()"
   ]
  },
  {
   "cell_type": "code",
   "execution_count": 4,
   "metadata": {},
   "outputs": [
    {
     "data": {
      "text/plain": [
       "(4177, 9)"
      ]
     },
     "execution_count": 4,
     "metadata": {},
     "output_type": "execute_result"
    }
   ],
   "source": [
    "df.shape"
   ]
  },
  {
   "cell_type": "code",
   "execution_count": 8,
   "metadata": {},
   "outputs": [],
   "source": [
    "from sklearn.preprocessing import LabelEncoder\n",
    "le = LabelEncoder()"
   ]
  },
  {
   "cell_type": "code",
   "execution_count": 9,
   "metadata": {},
   "outputs": [],
   "source": [
    "df['Q']= le.fit_transform(df['Q'])"
   ]
  },
  {
   "cell_type": "code",
   "execution_count": 10,
   "metadata": {},
   "outputs": [
    {
     "data": {
      "text/html": [
       "<div>\n",
       "<style scoped>\n",
       "    .dataframe tbody tr th:only-of-type {\n",
       "        vertical-align: middle;\n",
       "    }\n",
       "\n",
       "    .dataframe tbody tr th {\n",
       "        vertical-align: top;\n",
       "    }\n",
       "\n",
       "    .dataframe thead th {\n",
       "        text-align: right;\n",
       "    }\n",
       "</style>\n",
       "<table border=\"1\" class=\"dataframe\">\n",
       "  <thead>\n",
       "    <tr style=\"text-align: right;\">\n",
       "      <th></th>\n",
       "      <th>Q</th>\n",
       "      <th>Q1</th>\n",
       "      <th>Q2</th>\n",
       "      <th>Q3</th>\n",
       "      <th>Q4</th>\n",
       "      <th>Q5</th>\n",
       "      <th>Q6</th>\n",
       "      <th>Q7</th>\n",
       "      <th>OUT</th>\n",
       "    </tr>\n",
       "  </thead>\n",
       "  <tbody>\n",
       "    <tr>\n",
       "      <th>0</th>\n",
       "      <td>2</td>\n",
       "      <td>0.455</td>\n",
       "      <td>0.365</td>\n",
       "      <td>0.095</td>\n",
       "      <td>0.5140</td>\n",
       "      <td>0.2245</td>\n",
       "      <td>0.1010</td>\n",
       "      <td>0.150</td>\n",
       "      <td>15</td>\n",
       "    </tr>\n",
       "    <tr>\n",
       "      <th>1</th>\n",
       "      <td>2</td>\n",
       "      <td>0.350</td>\n",
       "      <td>0.265</td>\n",
       "      <td>0.090</td>\n",
       "      <td>0.2255</td>\n",
       "      <td>0.0995</td>\n",
       "      <td>0.0485</td>\n",
       "      <td>0.070</td>\n",
       "      <td>7</td>\n",
       "    </tr>\n",
       "    <tr>\n",
       "      <th>2</th>\n",
       "      <td>0</td>\n",
       "      <td>0.530</td>\n",
       "      <td>0.420</td>\n",
       "      <td>0.135</td>\n",
       "      <td>0.6770</td>\n",
       "      <td>0.2565</td>\n",
       "      <td>0.1415</td>\n",
       "      <td>0.210</td>\n",
       "      <td>9</td>\n",
       "    </tr>\n",
       "    <tr>\n",
       "      <th>3</th>\n",
       "      <td>2</td>\n",
       "      <td>0.440</td>\n",
       "      <td>0.365</td>\n",
       "      <td>0.125</td>\n",
       "      <td>0.5160</td>\n",
       "      <td>0.2155</td>\n",
       "      <td>0.1140</td>\n",
       "      <td>0.155</td>\n",
       "      <td>10</td>\n",
       "    </tr>\n",
       "    <tr>\n",
       "      <th>4</th>\n",
       "      <td>1</td>\n",
       "      <td>0.330</td>\n",
       "      <td>0.255</td>\n",
       "      <td>0.080</td>\n",
       "      <td>0.2050</td>\n",
       "      <td>0.0895</td>\n",
       "      <td>0.0395</td>\n",
       "      <td>0.055</td>\n",
       "      <td>7</td>\n",
       "    </tr>\n",
       "  </tbody>\n",
       "</table>\n",
       "</div>"
      ],
      "text/plain": [
       "   Q     Q1     Q2     Q3      Q4      Q5      Q6     Q7  OUT\n",
       "0  2  0.455  0.365  0.095  0.5140  0.2245  0.1010  0.150   15\n",
       "1  2  0.350  0.265  0.090  0.2255  0.0995  0.0485  0.070    7\n",
       "2  0  0.530  0.420  0.135  0.6770  0.2565  0.1415  0.210    9\n",
       "3  2  0.440  0.365  0.125  0.5160  0.2155  0.1140  0.155   10\n",
       "4  1  0.330  0.255  0.080  0.2050  0.0895  0.0395  0.055    7"
      ]
     },
     "execution_count": 10,
     "metadata": {},
     "output_type": "execute_result"
    }
   ],
   "source": [
    "df.head()"
   ]
  },
  {
   "cell_type": "code",
   "execution_count": 11,
   "metadata": {},
   "outputs": [
    {
     "data": {
      "text/plain": [
       "<bound method NDFrame.head of       Q     Q1     Q2     Q3      Q4      Q5      Q6      Q7  OUT\n",
       "0     2  0.455  0.365  0.095  0.5140  0.2245  0.1010  0.1500   15\n",
       "1     2  0.350  0.265  0.090  0.2255  0.0995  0.0485  0.0700    7\n",
       "2     0  0.530  0.420  0.135  0.6770  0.2565  0.1415  0.2100    9\n",
       "3     2  0.440  0.365  0.125  0.5160  0.2155  0.1140  0.1550   10\n",
       "4     1  0.330  0.255  0.080  0.2050  0.0895  0.0395  0.0550    7\n",
       "5     1  0.425  0.300  0.095  0.3515  0.1410  0.0775  0.1200    8\n",
       "6     0  0.530  0.415  0.150  0.7775  0.2370  0.1415  0.3300   20\n",
       "7     0  0.545  0.425  0.125  0.7680  0.2940  0.1495  0.2600   16\n",
       "8     2  0.475  0.370  0.125  0.5095  0.2165  0.1125  0.1650    9\n",
       "9     0  0.550  0.440  0.150  0.8945  0.3145  0.1510  0.3200   19\n",
       "10    0  0.525  0.380  0.140  0.6065  0.1940  0.1475  0.2100   14\n",
       "11    2  0.430  0.350  0.110  0.4060  0.1675  0.0810  0.1350   10\n",
       "12    2  0.490  0.380  0.135  0.5415  0.2175  0.0950  0.1900   11\n",
       "13    0  0.535  0.405  0.145  0.6845  0.2725  0.1710  0.2050   10\n",
       "14    0  0.470  0.355  0.100  0.4755  0.1675  0.0805  0.1850   10\n",
       "15    2  0.500  0.400  0.130  0.6645  0.2580  0.1330  0.2400   12\n",
       "16    1  0.355  0.280  0.085  0.2905  0.0950  0.0395  0.1150    7\n",
       "17    0  0.440  0.340  0.100  0.4510  0.1880  0.0870  0.1300   10\n",
       "18    2  0.365  0.295  0.080  0.2555  0.0970  0.0430  0.1000    7\n",
       "19    2  0.450  0.320  0.100  0.3810  0.1705  0.0750  0.1150    9\n",
       "20    2  0.355  0.280  0.095  0.2455  0.0955  0.0620  0.0750   11\n",
       "21    1  0.380  0.275  0.100  0.2255  0.0800  0.0490  0.0850   10\n",
       "22    0  0.565  0.440  0.155  0.9395  0.4275  0.2140  0.2700   12\n",
       "23    0  0.550  0.415  0.135  0.7635  0.3180  0.2100  0.2000    9\n",
       "24    0  0.615  0.480  0.165  1.1615  0.5130  0.3010  0.3050   10\n",
       "25    0  0.560  0.440  0.140  0.9285  0.3825  0.1880  0.3000   11\n",
       "26    0  0.580  0.450  0.185  0.9955  0.3945  0.2720  0.2850   11\n",
       "27    2  0.590  0.445  0.140  0.9310  0.3560  0.2340  0.2800   12\n",
       "28    2  0.605  0.475  0.180  0.9365  0.3940  0.2190  0.2950   15\n",
       "29    2  0.575  0.425  0.140  0.8635  0.3930  0.2270  0.2000   11\n",
       "...  ..    ...    ...    ...     ...     ...     ...     ...  ...\n",
       "4147  2  0.695  0.550  0.195  1.6645  0.7270  0.3600  0.4450   11\n",
       "4148  2  0.770  0.605  0.175  2.0505  0.8005  0.5260  0.3550   11\n",
       "4149  1  0.280  0.215  0.070  0.1240  0.0630  0.0215  0.0300    6\n",
       "4150  1  0.330  0.230  0.080  0.1400  0.0565  0.0365  0.0460    7\n",
       "4151  1  0.350  0.250  0.075  0.1695  0.0835  0.0355  0.0410    6\n",
       "4152  1  0.370  0.280  0.090  0.2180  0.0995  0.0545  0.0615    7\n",
       "4153  1  0.430  0.315  0.115  0.3840  0.1885  0.0715  0.1100    8\n",
       "4154  1  0.435  0.330  0.095  0.3930  0.2190  0.0750  0.0885    6\n",
       "4155  1  0.440  0.350  0.110  0.3805  0.1575  0.0895  0.1150    6\n",
       "4156  2  0.475  0.370  0.110  0.4895  0.2185  0.1070  0.1460    8\n",
       "4157  2  0.475  0.360  0.140  0.5135  0.2410  0.1045  0.1550    8\n",
       "4158  1  0.480  0.355  0.110  0.4495  0.2010  0.0890  0.1400    8\n",
       "4159  0  0.560  0.440  0.135  0.8025  0.3500  0.1615  0.2590    9\n",
       "4160  0  0.585  0.475  0.165  1.0530  0.4580  0.2170  0.3000   11\n",
       "4161  0  0.585  0.455  0.170  0.9945  0.4255  0.2630  0.2845   11\n",
       "4162  2  0.385  0.255  0.100  0.3175  0.1370  0.0680  0.0920    8\n",
       "4163  1  0.390  0.310  0.085  0.3440  0.1810  0.0695  0.0790    7\n",
       "4164  1  0.390  0.290  0.100  0.2845  0.1255  0.0635  0.0810    7\n",
       "4165  1  0.405  0.300  0.085  0.3035  0.1500  0.0505  0.0880    7\n",
       "4166  1  0.475  0.365  0.115  0.4990  0.2320  0.0885  0.1560   10\n",
       "4167  2  0.500  0.380  0.125  0.5770  0.2690  0.1265  0.1535    9\n",
       "4168  0  0.515  0.400  0.125  0.6150  0.2865  0.1230  0.1765    8\n",
       "4169  2  0.520  0.385  0.165  0.7910  0.3750  0.1800  0.1815   10\n",
       "4170  2  0.550  0.430  0.130  0.8395  0.3155  0.1955  0.2405   10\n",
       "4171  2  0.560  0.430  0.155  0.8675  0.4000  0.1720  0.2290    8\n",
       "4172  0  0.565  0.450  0.165  0.8870  0.3700  0.2390  0.2490   11\n",
       "4173  2  0.590  0.440  0.135  0.9660  0.4390  0.2145  0.2605   10\n",
       "4174  2  0.600  0.475  0.205  1.1760  0.5255  0.2875  0.3080    9\n",
       "4175  0  0.625  0.485  0.150  1.0945  0.5310  0.2610  0.2960   10\n",
       "4176  2  0.710  0.555  0.195  1.9485  0.9455  0.3765  0.4950   12\n",
       "\n",
       "[4177 rows x 9 columns]>"
      ]
     },
     "execution_count": 11,
     "metadata": {},
     "output_type": "execute_result"
    }
   ],
   "source": [
    "df = pd.DataFrame(data = df)\n",
    "df.head"
   ]
  },
  {
   "cell_type": "code",
   "execution_count": 12,
   "metadata": {},
   "outputs": [
    {
     "data": {
      "text/plain": [
       "{'whiskers': [<matplotlib.lines.Line2D at 0x2ad5f7cc828>,\n",
       "  <matplotlib.lines.Line2D at 0x2ad5f7ccb70>],\n",
       " 'caps': [<matplotlib.lines.Line2D at 0x2ad5f7cceb8>,\n",
       "  <matplotlib.lines.Line2D at 0x2ad5f7db240>],\n",
       " 'boxes': [<matplotlib.lines.Line2D at 0x2ad5f7cc6d8>],\n",
       " 'medians': [<matplotlib.lines.Line2D at 0x2ad5f7db588>],\n",
       " 'fliers': [<matplotlib.lines.Line2D at 0x2ad5f7db8d0>],\n",
       " 'means': []}"
      ]
     },
     "execution_count": 12,
     "metadata": {},
     "output_type": "execute_result"
    },
    {
     "data": {
      "image/png": "[encoded data removed]",
      "text/plain": [
       "<Figure size 432x288 with 1 Axes>"
      ]
     },
     "metadata": {
      "needs_background": "light"
     },
     "output_type": "display_data"
    }
   ],
   "source": [
    "plt.boxplot(df['Q'])"
   ]
  },
  {
   "cell_type": "code",
   "execution_count": 13,
   "metadata": {},
   "outputs": [
    {
     "data": {
      "text/plain": [
       "{'whiskers': [<matplotlib.lines.Line2D at 0x2ad5f9a4400>,\n",
       "  <matplotlib.lines.Line2D at 0x2ad5f9a4748>],\n",
       " 'caps': [<matplotlib.lines.Line2D at 0x2ad5f9a4a90>,\n",
       "  <matplotlib.lines.Line2D at 0x2ad5f9a4dd8>],\n",
       " 'boxes': [<matplotlib.lines.Line2D at 0x2ad5f9a42b0>],\n",
       " 'medians': [<matplotlib.lines.Line2D at 0x2ad5f9af160>],\n",
       " 'fliers': [<matplotlib.lines.Line2D at 0x2ad5f9af4a8>],\n",
       " 'means': []}"
      ]
     },
     "execution_count": 13,
     "metadata": {},
     "output_type": "execute_result"
    },
    {
     "data": {
      "image/png": "[encoded data removed]",
      "text/plain": [
       "<Figure size 432x288 with 1 Axes>"
      ]
     },
     "metadata": {
      "needs_background": "light"
     },
     "output_type": "display_data"
    }
   ],
   "source": [
    "plt.boxplot(df['Q3'])"
   ]
  },
  {
   "cell_type": "code",
   "execution_count": 14,
   "metadata": {},
   "outputs": [
    {
     "data": {
      "text/plain": [
       "{'whiskers': [<matplotlib.lines.Line2D at 0x2ad5fabcef0>,\n",
       "  <matplotlib.lines.Line2D at 0x2ad5fac5278>],\n",
       " 'caps': [<matplotlib.lines.Line2D at 0x2ad5fac55c0>,\n",
       "  <matplotlib.lines.Line2D at 0x2ad5fac5908>],\n",
       " 'boxes': [<matplotlib.lines.Line2D at 0x2ad5fabcda0>],\n",
       " 'medians': [<matplotlib.lines.Line2D at 0x2ad5fac5c50>],\n",
       " 'fliers': [<matplotlib.lines.Line2D at 0x2ad5fac5f98>],\n",
       " 'means': []}"
      ]
     },
     "execution_count": 14,
     "metadata": {},
     "output_type": "execute_result"
    },
    {
     "data": {
      "image/png": "[encoded data removed]",
      "text/plain": [
       "<Figure size 432x288 with 1 Axes>"
      ]
     },
     "metadata": {
      "needs_background": "light"
     },
     "output_type": "display_data"
    }
   ],
   "source": [
    "plt.boxplot(df['Q7'])"
   ]
  },
  {
   "cell_type": "code",
   "execution_count": 15,
   "metadata": {},
   "outputs": [
    {
     "data": {
      "text/plain": [
       "{'whiskers': [<matplotlib.lines.Line2D at 0x2ad5fb5ca58>,\n",
       "  <matplotlib.lines.Line2D at 0x2ad5fb5cda0>],\n",
       " 'caps': [<matplotlib.lines.Line2D at 0x2ad5fb66128>,\n",
       "  <matplotlib.lines.Line2D at 0x2ad5fb66470>],\n",
       " 'boxes': [<matplotlib.lines.Line2D at 0x2ad5fb5c908>],\n",
       " 'medians': [<matplotlib.lines.Line2D at 0x2ad5fb667b8>],\n",
       " 'fliers': [<matplotlib.lines.Line2D at 0x2ad5fb66cf8>],\n",
       " 'means': []}"
      ]
     },
     "execution_count": 15,
     "metadata": {},
     "output_type": "execute_result"
    },
    {
     "data": {
      "image/png": "[encoded data removed]",
      "text/plain": [
       "<Figure size 432x288 with 1 Axes>"
      ]
     },
     "metadata": {
      "needs_background": "light"
     },
     "output_type": "display_data"
    }
   ],
   "source": [
    "plt.boxplot(df['OUT'])"
   ]
  },
  {
   "cell_type": "code",
   "execution_count": 16,
   "metadata": {},
   "outputs": [
    {
     "data": {
      "text/plain": [
       "array([[1.15198011, 0.57455813, 0.43214879, ..., 0.72621157, 0.63821689,\n",
       "        1.57154357],\n",
       "       [1.15198011, 1.44898585, 1.439929  , ..., 1.20522124, 1.21298732,\n",
       "        0.91001299],\n",
       "       [1.28068972, 0.05003309, 0.12213032, ..., 0.35668983, 0.20713907,\n",
       "        0.28962385],\n",
       "       ...,\n",
       "       [1.15198011, 0.6329849 , 0.67640943, ..., 0.97541324, 0.49695471,\n",
       "        0.28962385],\n",
       "       [1.28068972, 0.84118198, 0.77718745, ..., 0.73362741, 0.41073914,\n",
       "        0.02057072],\n",
       "       [1.15198011, 1.54905203, 1.48263359, ..., 1.78744868, 1.84048058,\n",
       "        0.64095986]])"
      ]
     },
     "execution_count": 16,
     "metadata": {},
     "output_type": "execute_result"
    }
   ],
   "source": [
    "from scipy.stats import zscore\n",
    "z = np.abs(zscore(df))\n",
    "z"
   ]
  },
  {
   "cell_type": "code",
   "execution_count": 17,
   "metadata": {},
   "outputs": [
    {
     "data": {
      "text/plain": [
       "<bound method NDFrame.head of       Q     Q1     Q2     Q3      Q4      Q5      Q6      Q7  OUT\n",
       "0     2  0.455  0.365  0.095  0.5140  0.2245  0.1010  0.1500   15\n",
       "1     2  0.350  0.265  0.090  0.2255  0.0995  0.0485  0.0700    7\n",
       "2     0  0.530  0.420  0.135  0.6770  0.2565  0.1415  0.2100    9\n",
       "3     2  0.440  0.365  0.125  0.5160  0.2155  0.1140  0.1550   10\n",
       "4     1  0.330  0.255  0.080  0.2050  0.0895  0.0395  0.0550    7\n",
       "5     1  0.425  0.300  0.095  0.3515  0.1410  0.0775  0.1200    8\n",
       "7     0  0.545  0.425  0.125  0.7680  0.2940  0.1495  0.2600   16\n",
       "8     2  0.475  0.370  0.125  0.5095  0.2165  0.1125  0.1650    9\n",
       "9     0  0.550  0.440  0.150  0.8945  0.3145  0.1510  0.3200   19\n",
       "10    0  0.525  0.380  0.140  0.6065  0.1940  0.1475  0.2100   14\n",
       "11    2  0.430  0.350  0.110  0.4060  0.1675  0.0810  0.1350   10\n",
       "12    2  0.490  0.380  0.135  0.5415  0.2175  0.0950  0.1900   11\n",
       "13    0  0.535  0.405  0.145  0.6845  0.2725  0.1710  0.2050   10\n",
       "14    0  0.470  0.355  0.100  0.4755  0.1675  0.0805  0.1850   10\n",
       "15    2  0.500  0.400  0.130  0.6645  0.2580  0.1330  0.2400   12\n",
       "16    1  0.355  0.280  0.085  0.2905  0.0950  0.0395  0.1150    7\n",
       "17    0  0.440  0.340  0.100  0.4510  0.1880  0.0870  0.1300   10\n",
       "18    2  0.365  0.295  0.080  0.2555  0.0970  0.0430  0.1000    7\n",
       "19    2  0.450  0.320  0.100  0.3810  0.1705  0.0750  0.1150    9\n",
       "20    2  0.355  0.280  0.095  0.2455  0.0955  0.0620  0.0750   11\n",
       "21    1  0.380  0.275  0.100  0.2255  0.0800  0.0490  0.0850   10\n",
       "22    0  0.565  0.440  0.155  0.9395  0.4275  0.2140  0.2700   12\n",
       "23    0  0.550  0.415  0.135  0.7635  0.3180  0.2100  0.2000    9\n",
       "24    0  0.615  0.480  0.165  1.1615  0.5130  0.3010  0.3050   10\n",
       "25    0  0.560  0.440  0.140  0.9285  0.3825  0.1880  0.3000   11\n",
       "26    0  0.580  0.450  0.185  0.9955  0.3945  0.2720  0.2850   11\n",
       "27    2  0.590  0.445  0.140  0.9310  0.3560  0.2340  0.2800   12\n",
       "28    2  0.605  0.475  0.180  0.9365  0.3940  0.2190  0.2950   15\n",
       "29    2  0.575  0.425  0.140  0.8635  0.3930  0.2270  0.2000   11\n",
       "30    2  0.580  0.470  0.165  0.9975  0.3935  0.2420  0.3300   10\n",
       "...  ..    ...    ...    ...     ...     ...     ...     ...  ...\n",
       "4146  2  0.695  0.530  0.210  1.5100  0.6640  0.4095  0.3850   10\n",
       "4147  2  0.695  0.550  0.195  1.6645  0.7270  0.3600  0.4450   11\n",
       "4149  1  0.280  0.215  0.070  0.1240  0.0630  0.0215  0.0300    6\n",
       "4150  1  0.330  0.230  0.080  0.1400  0.0565  0.0365  0.0460    7\n",
       "4151  1  0.350  0.250  0.075  0.1695  0.0835  0.0355  0.0410    6\n",
       "4152  1  0.370  0.280  0.090  0.2180  0.0995  0.0545  0.0615    7\n",
       "4153  1  0.430  0.315  0.115  0.3840  0.1885  0.0715  0.1100    8\n",
       "4154  1  0.435  0.330  0.095  0.3930  0.2190  0.0750  0.0885    6\n",
       "4155  1  0.440  0.350  0.110  0.3805  0.1575  0.0895  0.1150    6\n",
       "4156  2  0.475  0.370  0.110  0.4895  0.2185  0.1070  0.1460    8\n",
       "4157  2  0.475  0.360  0.140  0.5135  0.2410  0.1045  0.1550    8\n",
       "4158  1  0.480  0.355  0.110  0.4495  0.2010  0.0890  0.1400    8\n",
       "4159  0  0.560  0.440  0.135  0.8025  0.3500  0.1615  0.2590    9\n",
       "4160  0  0.585  0.475  0.165  1.0530  0.4580  0.2170  0.3000   11\n",
       "4161  0  0.585  0.455  0.170  0.9945  0.4255  0.2630  0.2845   11\n",
       "4162  2  0.385  0.255  0.100  0.3175  0.1370  0.0680  0.0920    8\n",
       "4163  1  0.390  0.310  0.085  0.3440  0.1810  0.0695  0.0790    7\n",
       "4164  1  0.390  0.290  0.100  0.2845  0.1255  0.0635  0.0810    7\n",
       "4165  1  0.405  0.300  0.085  0.3035  0.1500  0.0505  0.0880    7\n",
       "4166  1  0.475  0.365  0.115  0.4990  0.2320  0.0885  0.1560   10\n",
       "4167  2  0.500  0.380  0.125  0.5770  0.2690  0.1265  0.1535    9\n",
       "4168  0  0.515  0.400  0.125  0.6150  0.2865  0.1230  0.1765    8\n",
       "4169  2  0.520  0.385  0.165  0.7910  0.3750  0.1800  0.1815   10\n",
       "4170  2  0.550  0.430  0.130  0.8395  0.3155  0.1955  0.2405   10\n",
       "4171  2  0.560  0.430  0.155  0.8675  0.4000  0.1720  0.2290    8\n",
       "4172  0  0.565  0.450  0.165  0.8870  0.3700  0.2390  0.2490   11\n",
       "4173  2  0.590  0.440  0.135  0.9660  0.4390  0.2145  0.2605   10\n",
       "4174  2  0.600  0.475  0.205  1.1760  0.5255  0.2875  0.3080    9\n",
       "4175  0  0.625  0.485  0.150  1.0945  0.5310  0.2610  0.2960   10\n",
       "4176  2  0.710  0.555  0.195  1.9485  0.9455  0.3765  0.4950   12\n",
       "\n",
       "[4027 rows x 9 columns]>"
      ]
     },
     "execution_count": 17,
     "metadata": {},
     "output_type": "execute_result"
    }
   ],
   "source": [
    "df = df[(z<3).all(axis=1)]\n",
    "df.head"
   ]
  },
  {
   "cell_type": "code",
   "execution_count": 21,
   "metadata": {},
   "outputs": [
    {
     "data": {
      "text/plain": [
       "<matplotlib.axes._subplots.AxesSubplot at 0x2ad600357f0>"
      ]
     },
     "execution_count": 21,
     "metadata": {},
     "output_type": "execute_result"
    },
    {
     "data": {
      "image/png": "[encoded data removed]",
      "text/plain": [
       "<Figure size 432x288 with 2 Axes>"
      ]
     },
     "metadata": {
      "needs_background": "light"
     },
     "output_type": "display_data"
    }
   ],
   "source": [
    "sns.heatmap(df.isnull())"
   ]
  },
  {
   "cell_type": "code",
   "execution_count": 18,
   "metadata": {},
   "outputs": [],
   "source": [
    "dfcorr = df.corr()"
   ]
  },
  {
   "cell_type": "code",
   "execution_count": 19,
   "metadata": {},
   "outputs": [
    {
     "data": {
      "text/plain": [
       "<matplotlib.axes._subplots.AxesSubplot at 0x2ad5ff66be0>"
      ]
     },
     "execution_count": 19,
     "metadata": {},
     "output_type": "execute_result"
    },
    {
     "data": {
      "image/png": "[encoded data removed]",
      "text/plain": [
       "<Figure size 432x288 with 2 Axes>"
      ]
     },
     "metadata": {
      "needs_background": "light"
     },
     "output_type": "display_data"
    }
   ],
   "source": [
    "sns.heatmap(dfcorr, cmap= \"Blues\", annot = True)"
   ]
  },
  {
   "cell_type": "code",
   "execution_count": 24,
   "metadata": {},
   "outputs": [],
   "source": [
    "x= df.iloc[:,0:-1].values"
   ]
  },
  {
   "cell_type": "code",
   "execution_count": 25,
   "metadata": {},
   "outputs": [],
   "source": [
    "y = df.iloc[:,-1].values"
   ]
  },
  {
   "cell_type": "code",
   "execution_count": 26,
   "metadata": {},
   "outputs": [],
   "source": [
    "from sklearn.model_selection import train_test_split"
   ]
  },
  {
   "cell_type": "code",
   "execution_count": 28,
   "metadata": {},
   "outputs": [],
   "source": [
    "from sklearn.linear_model import LinearRegression\n",
    "lr = LinearRegression()"
   ]
  },
  {
   "cell_type": "code",
   "execution_count": 29,
   "metadata": {},
   "outputs": [],
   "source": [
    "x_train,x_test,y_train,y_test= train_test_split(x,y, test_size=.33, random_state=47)"
   ]
  },
  {
   "cell_type": "code",
   "execution_count": 30,
   "metadata": {},
   "outputs": [
    {
     "data": {
      "text/plain": [
       "0.5130046640850872"
      ]
     },
     "execution_count": 30,
     "metadata": {},
     "output_type": "execute_result"
    }
   ],
   "source": [
    "lr.fit(x_train,y_train)\n",
    "lr.score(x_train,y_train)"
   ]
  },
  {
   "cell_type": "code",
   "execution_count": 31,
   "metadata": {},
   "outputs": [
    {
     "data": {
      "text/plain": [
       "array([ 5.39253039,  8.66606152,  7.81408202, ...,  9.97894394,\n",
       "       10.77215932,  8.98918412])"
      ]
     },
     "execution_count": 31,
     "metadata": {},
     "output_type": "execute_result"
    }
   ],
   "source": [
    "pred = lr.predict(x_test)\n",
    "pred"
   ]
  },
  {
   "cell_type": "code",
   "execution_count": 32,
   "metadata": {},
   "outputs": [
    {
     "name": "stdout",
     "output_type": "stream",
     "text": [
      "4.076403797599897\n",
      "0.5120579736551008\n"
     ]
    }
   ],
   "source": [
    "print(mean_squared_error(y_test, pred))\n",
    "print(r2_score(y_test, pred))"
   ]
  },
  {
   "cell_type": "code",
   "execution_count": 33,
   "metadata": {},
   "outputs": [
    {
     "data": {
      "text/plain": [
       "array([  0.0787163 ,  -0.79643671,  10.99459654,  21.2521835 ,\n",
       "         6.05703111, -17.30794382,  -3.81107223,   8.47275153])"
      ]
     },
     "execution_count": 33,
     "metadata": {},
     "output_type": "execute_result"
    }
   ],
   "source": [
    "lr.coef_"
   ]
  },
  {
   "cell_type": "code",
   "execution_count": 34,
   "metadata": {},
   "outputs": [
    {
     "data": {
      "text/plain": [
       "2.594230910109741"
      ]
     },
     "execution_count": 34,
     "metadata": {},
     "output_type": "execute_result"
    }
   ],
   "source": [
    "lr.intercept_"
   ]
  },
  {
   "cell_type": "code",
   "execution_count": 36,
   "metadata": {},
   "outputs": [],
   "source": [
    "t = np.array ([2.0, 0.450,  0.45,  0.15,  0.510,  0.355,  0.2240,  0.1150])\n"
   ]
  },
  {
   "cell_type": "code",
   "execution_count": 37,
   "metadata": {},
   "outputs": [],
   "source": [
    "td = t.reshape(1,-1)"
   ]
  },
  {
   "cell_type": "code",
   "execution_count": 38,
   "metadata": {},
   "outputs": [],
   "source": [
    "predtd = lr.predict(td)"
   ]
  },
  {
   "cell_type": "code",
   "execution_count": 39,
   "metadata": {},
   "outputs": [
    {
     "data": {
      "text/plain": [
       "array([7.59411502])"
      ]
     },
     "execution_count": 39,
     "metadata": {},
     "output_type": "execute_result"
    }
   ],
   "source": [
    "predtd"
   ]
  },
  {
   "cell_type": "code",
   "execution_count": null,
   "metadata": {},
   "outputs": [],
   "source": []
  }
 ],
 "metadata": {
  "kernelspec": {
   "display_name": "Python 3",
   "language": "python",
   "name": "python3"
  },
  "language_info": {
   "codemirror_mode": {
    "name": "ipython",
    "version": 3
   },
   "file_extension": ".py",
   "mimetype": "text/x-python",
   "name": "python",
   "nbconvert_exporter": "python",
   "pygments_lexer": "ipython3",
   "version": "3.7.3"
  }
 },
 "nbformat": 4,
 "nbformat_minor": 2
}
