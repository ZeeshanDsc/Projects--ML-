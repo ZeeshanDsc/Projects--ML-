{
 "cells": [
  {
   "cell_type": "code",
   "execution_count": 2,
   "metadata": {},
   "outputs": [],
   "source": [
    "import pandas as pd\n",
    "import numpy as np\n",
    "import matplotlib.pyplot as plt\n",
    "import seaborn as sns\n",
    "from sklearn.linear_model import LinearRegression\n",
    "from sklearn.metrics import r2_score, mean_squared_error\n",
    "import warnings\n",
    "warnings.filterwarnings('ignore')"
   ]
  },
  {
   "cell_type": "code",
   "execution_count": 3,
   "metadata": {},
   "outputs": [
    {
     "data": {
      "text/html": [
       "<div>\n",
       "<style scoped>\n",
       "    .dataframe tbody tr th:only-of-type {\n",
       "        vertical-align: middle;\n",
       "    }\n",
       "\n",
       "    .dataframe tbody tr th {\n",
       "        vertical-align: top;\n",
       "    }\n",
       "\n",
       "    .dataframe thead th {\n",
       "        text-align: right;\n",
       "    }\n",
       "</style>\n",
       "<table border=\"1\" class=\"dataframe\">\n",
       "  <thead>\n",
       "    <tr style=\"text-align: right;\">\n",
       "      <th></th>\n",
       "      <th>date</th>\n",
       "      <th>temperature</th>\n",
       "      <th>humidity</th>\n",
       "      <th>windspeed</th>\n",
       "      <th>count</th>\n",
       "    </tr>\n",
       "  </thead>\n",
       "  <tbody>\n",
       "    <tr>\n",
       "      <th>0</th>\n",
       "      <td>2011-01-03</td>\n",
       "      <td>2.716070</td>\n",
       "      <td>45.715346</td>\n",
       "      <td>21.414957</td>\n",
       "      <td>120.0</td>\n",
       "    </tr>\n",
       "    <tr>\n",
       "      <th>1</th>\n",
       "      <td>2011-01-04</td>\n",
       "      <td>2.896673</td>\n",
       "      <td>54.267219</td>\n",
       "      <td>15.136882</td>\n",
       "      <td>108.0</td>\n",
       "    </tr>\n",
       "    <tr>\n",
       "      <th>2</th>\n",
       "      <td>2011-01-05</td>\n",
       "      <td>4.235654</td>\n",
       "      <td>45.697702</td>\n",
       "      <td>17.034578</td>\n",
       "      <td>82.0</td>\n",
       "    </tr>\n",
       "    <tr>\n",
       "      <th>3</th>\n",
       "      <td>2011-01-06</td>\n",
       "      <td>3.112643</td>\n",
       "      <td>50.237349</td>\n",
       "      <td>10.091568</td>\n",
       "      <td>88.0</td>\n",
       "    </tr>\n",
       "    <tr>\n",
       "      <th>4</th>\n",
       "      <td>2011-01-07</td>\n",
       "      <td>2.723918</td>\n",
       "      <td>49.144928</td>\n",
       "      <td>15.738204</td>\n",
       "      <td>148.0</td>\n",
       "    </tr>\n",
       "  </tbody>\n",
       "</table>\n",
       "</div>"
      ],
      "text/plain": [
       "         date  temperature   humidity  windspeed  count\n",
       "0  2011-01-03     2.716070  45.715346  21.414957  120.0\n",
       "1  2011-01-04     2.896673  54.267219  15.136882  108.0\n",
       "2  2011-01-05     4.235654  45.697702  17.034578   82.0\n",
       "3  2011-01-06     3.112643  50.237349  10.091568   88.0\n",
       "4  2011-01-07     2.723918  49.144928  15.738204  148.0"
      ]
     },
     "execution_count": 3,
     "metadata": {},
     "output_type": "execute_result"
    }
   ],
   "source": [
    "df = pd.read_csv('bikes.csv')\n",
    "df.head()"
   ]
  },
  {
   "cell_type": "code",
   "execution_count": 4,
   "metadata": {},
   "outputs": [
    {
     "data": {
      "text/plain": [
       "{'whiskers': [<matplotlib.lines.Line2D at 0x2843275e400>,\n",
       "  <matplotlib.lines.Line2D at 0x2843275e748>],\n",
       " 'caps': [<matplotlib.lines.Line2D at 0x2843275ea90>,\n",
       "  <matplotlib.lines.Line2D at 0x2843275edd8>],\n",
       " 'boxes': [<matplotlib.lines.Line2D at 0x28432642f60>],\n",
       " 'medians': [<matplotlib.lines.Line2D at 0x2843275eeb8>],\n",
       " 'fliers': [<matplotlib.lines.Line2D at 0x2843276d4a8>],\n",
       " 'means': []}"
      ]
     },
     "execution_count": 4,
     "metadata": {},
     "output_type": "execute_result"
    },
    {
     "data": {
      "image/png": "[encoded data removed]",
      "text/plain": [
       "<Figure size 432x288 with 1 Axes>"
      ]
     },
     "metadata": {
      "needs_background": "light"
     },
     "output_type": "display_data"
    }
   ],
   "source": [
    "plt.boxplot(df['temperature'])"
   ]
  },
  {
   "cell_type": "code",
   "execution_count": 5,
   "metadata": {},
   "outputs": [
    {
     "data": {
      "text/plain": [
       "{'whiskers': [<matplotlib.lines.Line2D at 0x284327c90b8>,\n",
       "  <matplotlib.lines.Line2D at 0x284327e89b0>],\n",
       " 'caps': [<matplotlib.lines.Line2D at 0x284327e8cf8>,\n",
       "  <matplotlib.lines.Line2D at 0x284327e8dd8>],\n",
       " 'boxes': [<matplotlib.lines.Line2D at 0x284327e82b0>],\n",
       " 'medians': [<matplotlib.lines.Line2D at 0x284327f23c8>],\n",
       " 'fliers': [<matplotlib.lines.Line2D at 0x284327f2710>],\n",
       " 'means': []}"
      ]
     },
     "execution_count": 5,
     "metadata": {},
     "output_type": "execute_result"
    },
    {
     "data": {
      "image/png": "[encoded data removed]",
      "text/plain": [
       "<Figure size 432x288 with 1 Axes>"
      ]
     },
     "metadata": {
      "needs_background": "light"
     },
     "output_type": "display_data"
    }
   ],
   "source": [
    "plt.boxplot(df['humidity'])"
   ]
  },
  {
   "cell_type": "code",
   "execution_count": 6,
   "metadata": {},
   "outputs": [
    {
     "data": {
      "text/plain": [
       "{'whiskers': [<matplotlib.lines.Line2D at 0x2843283de10>,\n",
       "  <matplotlib.lines.Line2D at 0x28432849400>],\n",
       " 'caps': [<matplotlib.lines.Line2D at 0x28432849748>,\n",
       "  <matplotlib.lines.Line2D at 0x28432849a90>],\n",
       " 'boxes': [<matplotlib.lines.Line2D at 0x2843283dcc0>],\n",
       " 'medians': [<matplotlib.lines.Line2D at 0x28432849dd8>],\n",
       " 'fliers': [<matplotlib.lines.Line2D at 0x28432849eb8>],\n",
       " 'means': []}"
      ]
     },
     "execution_count": 6,
     "metadata": {},
     "output_type": "execute_result"
    },
    {
     "data": {
      "image/png": "[encoded data removed]",
      "text/plain": [
       "<Figure size 432x288 with 1 Axes>"
      ]
     },
     "metadata": {
      "needs_background": "light"
     },
     "output_type": "display_data"
    }
   ],
   "source": [
    "plt.boxplot(df['windspeed'])"
   ]
  },
  {
   "cell_type": "code",
   "execution_count": null,
   "metadata": {},
   "outputs": [],
   "source": [
    "# after reviewing found out that there are no outliers.."
   ]
  },
  {
   "cell_type": "code",
   "execution_count": 8,
   "metadata": {},
   "outputs": [],
   "source": [
    "dfcorr = df.corr()"
   ]
  },
  {
   "cell_type": "raw",
   "metadata": {},
   "source": []
  },
  {
   "cell_type": "code",
   "execution_count": 9,
   "metadata": {},
   "outputs": [
    {
     "data": {
      "text/html": [
       "<div>\n",
       "<style scoped>\n",
       "    .dataframe tbody tr th:only-of-type {\n",
       "        vertical-align: middle;\n",
       "    }\n",
       "\n",
       "    .dataframe tbody tr th {\n",
       "        vertical-align: top;\n",
       "    }\n",
       "\n",
       "    .dataframe thead th {\n",
       "        text-align: right;\n",
       "    }\n",
       "</style>\n",
       "<table border=\"1\" class=\"dataframe\">\n",
       "  <thead>\n",
       "    <tr style=\"text-align: right;\">\n",
       "      <th></th>\n",
       "      <th>temperature</th>\n",
       "      <th>humidity</th>\n",
       "      <th>windspeed</th>\n",
       "      <th>count</th>\n",
       "    </tr>\n",
       "  </thead>\n",
       "  <tbody>\n",
       "    <tr>\n",
       "      <th>temperature</th>\n",
       "      <td>1.000000</td>\n",
       "      <td>0.152391</td>\n",
       "      <td>-0.058493</td>\n",
       "      <td>0.897247</td>\n",
       "    </tr>\n",
       "    <tr>\n",
       "      <th>humidity</th>\n",
       "      <td>0.152391</td>\n",
       "      <td>1.000000</td>\n",
       "      <td>-0.119008</td>\n",
       "      <td>0.044918</td>\n",
       "    </tr>\n",
       "    <tr>\n",
       "      <th>windspeed</th>\n",
       "      <td>-0.058493</td>\n",
       "      <td>-0.119008</td>\n",
       "      <td>1.000000</td>\n",
       "      <td>-0.130064</td>\n",
       "    </tr>\n",
       "    <tr>\n",
       "      <th>count</th>\n",
       "      <td>0.897247</td>\n",
       "      <td>0.044918</td>\n",
       "      <td>-0.130064</td>\n",
       "      <td>1.000000</td>\n",
       "    </tr>\n",
       "  </tbody>\n",
       "</table>\n",
       "</div>"
      ],
      "text/plain": [
       "             temperature  humidity  windspeed     count\n",
       "temperature     1.000000  0.152391  -0.058493  0.897247\n",
       "humidity        0.152391  1.000000  -0.119008  0.044918\n",
       "windspeed      -0.058493 -0.119008   1.000000 -0.130064\n",
       "count           0.897247  0.044918  -0.130064  1.000000"
      ]
     },
     "execution_count": 9,
     "metadata": {},
     "output_type": "execute_result"
    }
   ],
   "source": [
    "dfcorr"
   ]
  },
  {
   "cell_type": "code",
   "execution_count": 10,
   "metadata": {},
   "outputs": [
    {
     "data": {
      "text/plain": [
       "<matplotlib.axes._subplots.AxesSubplot at 0x2843293c4e0>"
      ]
     },
     "execution_count": 10,
     "metadata": {},
     "output_type": "execute_result"
    },
    {
     "data": {
      "image/png": "[encoded data removed]",
      "text/plain": [
       "<Figure size 432x288 with 2 Axes>"
      ]
     },
     "metadata": {
      "needs_background": "light"
     },
     "output_type": "display_data"
    }
   ],
   "source": [
    "sns.heatmap(df.isnull())"
   ]
  },
  {
   "cell_type": "code",
   "execution_count": null,
   "metadata": {},
   "outputs": [],
   "source": [
    "#hence there are no NAN Values.."
   ]
  },
  {
   "cell_type": "code",
   "execution_count": 11,
   "metadata": {},
   "outputs": [
    {
     "data": {
      "text/plain": [
       "<matplotlib.axes._subplots.AxesSubplot at 0x2842f532630>"
      ]
     },
     "execution_count": 11,
     "metadata": {},
     "output_type": "execute_result"
    },
    {
     "data": {
      "image/png": "[encoded data removed]",
      "text/plain": [
       "<Figure size 864x864 with 2 Axes>"
      ]
     },
     "metadata": {
      "needs_background": "light"
     },
     "output_type": "display_data"
    }
   ],
   "source": [
    "plt.figure(figsize = (12,12))\n",
    "sns.heatmap(dfcorr, cmap= \"Blues\", annot = True)"
   ]
  },
  {
   "cell_type": "code",
   "execution_count": null,
   "metadata": {},
   "outputs": [],
   "source": [
    "# here we can see count (output/targer) is proportinally dependent on termperature.."
   ]
  },
  {
   "cell_type": "code",
   "execution_count": null,
   "metadata": {},
   "outputs": [],
   "source": []
  },
  {
   "cell_type": "code",
   "execution_count": 19,
   "metadata": {},
   "outputs": [
    {
     "data": {
      "text/html": [
       "<div>\n",
       "<style scoped>\n",
       "    .dataframe tbody tr th:only-of-type {\n",
       "        vertical-align: middle;\n",
       "    }\n",
       "\n",
       "    .dataframe tbody tr th {\n",
       "        vertical-align: top;\n",
       "    }\n",
       "\n",
       "    .dataframe thead th {\n",
       "        text-align: right;\n",
       "    }\n",
       "</style>\n",
       "<table border=\"1\" class=\"dataframe\">\n",
       "  <thead>\n",
       "    <tr style=\"text-align: right;\">\n",
       "      <th></th>\n",
       "      <th>date</th>\n",
       "      <th>temperature</th>\n",
       "      <th>humidity</th>\n",
       "      <th>windspeed</th>\n",
       "      <th>count</th>\n",
       "    </tr>\n",
       "  </thead>\n",
       "  <tbody>\n",
       "    <tr>\n",
       "      <th>0</th>\n",
       "      <td>2011-01-03</td>\n",
       "      <td>2.716070</td>\n",
       "      <td>45.715346</td>\n",
       "      <td>21.414957</td>\n",
       "      <td>120.0</td>\n",
       "    </tr>\n",
       "    <tr>\n",
       "      <th>1</th>\n",
       "      <td>2011-01-04</td>\n",
       "      <td>2.896673</td>\n",
       "      <td>54.267219</td>\n",
       "      <td>15.136882</td>\n",
       "      <td>108.0</td>\n",
       "    </tr>\n",
       "    <tr>\n",
       "      <th>2</th>\n",
       "      <td>2011-01-05</td>\n",
       "      <td>4.235654</td>\n",
       "      <td>45.697702</td>\n",
       "      <td>17.034578</td>\n",
       "      <td>82.0</td>\n",
       "    </tr>\n",
       "    <tr>\n",
       "      <th>3</th>\n",
       "      <td>2011-01-06</td>\n",
       "      <td>3.112643</td>\n",
       "      <td>50.237349</td>\n",
       "      <td>10.091568</td>\n",
       "      <td>88.0</td>\n",
       "    </tr>\n",
       "    <tr>\n",
       "      <th>4</th>\n",
       "      <td>2011-01-07</td>\n",
       "      <td>2.723918</td>\n",
       "      <td>49.144928</td>\n",
       "      <td>15.738204</td>\n",
       "      <td>148.0</td>\n",
       "    </tr>\n",
       "  </tbody>\n",
       "</table>\n",
       "</div>"
      ],
      "text/plain": [
       "         date  temperature   humidity  windspeed  count\n",
       "0  2011-01-03     2.716070  45.715346  21.414957  120.0\n",
       "1  2011-01-04     2.896673  54.267219  15.136882  108.0\n",
       "2  2011-01-05     4.235654  45.697702  17.034578   82.0\n",
       "3  2011-01-06     3.112643  50.237349  10.091568   88.0\n",
       "4  2011-01-07     2.723918  49.144928  15.738204  148.0"
      ]
     },
     "execution_count": 19,
     "metadata": {},
     "output_type": "execute_result"
    }
   ],
   "source": [
    "df = pd.DataFrame(data= df)\n",
    "df.head()"
   ]
  },
  {
   "cell_type": "code",
   "execution_count": 36,
   "metadata": {},
   "outputs": [
    {
     "data": {
      "text/plain": [
       "array([[ 2.71606966, 45.71534591, 21.41495651],\n",
       "       [ 2.8966733 , 54.26721902, 15.13688189],\n",
       "       [ 4.23565354, 45.6977019 , 17.03457765],\n",
       "       [ 3.11264266, 50.23734941, 10.09156767],\n",
       "       [ 2.72391768, 49.14492833, 15.73820407],\n",
       "       [ 1.96744541, 48.85125234, 17.03502942],\n",
       "       [ 1.21097315, 48.55757635, 18.33185477],\n",
       "       [ 0.45450089, 48.26390036, 19.62868011],\n",
       "       [ 1.36139339, 59.62346036, 12.41459723],\n",
       "       [ 1.54199703, 54.77588021, 25.43218813],\n",
       "       [ 1.15818947, 47.56595692, 25.1734698 ],\n",
       "       [ 0.95304838, 51.32977049, 12.7295959 ],\n",
       "       [ 1.64592111, 55.85022455, 13.09030004],\n",
       "       [ 2.33879384, 60.37067861, 13.45100418],\n",
       "       [ 3.03166657, 64.89113267, 13.81170833],\n",
       "       [ 3.7245393 , 69.41158674, 14.17241247],\n",
       "       [ 7.47504496, 62.71534982, 18.56227838],\n",
       "       [ 5.95973279, 51.35807907, 17.67684395],\n",
       "       [ 1.77907655, 46.82144668, 28.89995536],\n",
       "       [ 0.4527177 , 47.4664581 , 24.26551848],\n",
       "       [-0.87364115, 48.11146951, 19.6310816 ],\n",
       "       [-2.2       , 48.75648093, 14.99664471],\n",
       "       [ 4.06284825, 55.74808751, 12.9612797 ],\n",
       "       [ 3.76591521, 69.45809769, 24.66345158],\n",
       "       [ 2.64831846, 59.68688946, 11.82290476],\n",
       "       [ 3.06942892, 65.57993306, 12.49791209],\n",
       "       [ 2.69449591, 62.05684483, 14.01707685],\n",
       "       [ 2.31956289, 58.53375661, 15.53624161],\n",
       "       [ 1.94462988, 55.01066838, 17.05540637],\n",
       "       [ 2.50794831, 67.6191563 ,  7.49852091],\n",
       "       [ 5.87693129, 64.59577697, 22.55618469],\n",
       "       [ 2.24881488, 45.74622293, 23.51516161],\n",
       "       [ 3.4581539 , 53.97586951, 12.8216845 ],\n",
       "       [ 4.45758342, 56.82563774, 10.86172372],\n",
       "       [ 5.45701293, 59.67540596,  8.90176293],\n",
       "       [ 6.45644245, 62.52517419,  6.94180215],\n",
       "       [ 3.93146854, 51.33485152, 29.52110762],\n",
       "       [-0.34271812, 48.92644411, 17.17288889],\n",
       "       [ 0.13238467, 45.7219345 , 19.53366693],\n",
       "       [ 2.35481272, 49.57307476, 11.44577661],\n",
       "       [ 6.09518551, 47.1436546 , 18.80140441],\n",
       "       [ 9.8355583 , 44.71423445, 26.1570322 ],\n",
       "       [13.57593109, 42.28481429, 33.51266   ],\n",
       "       [ 6.17927846, 38.85177008, 24.48683548],\n",
       "       [ 8.77081146, 44.94509553, 21.66333182],\n",
       "       [14.61072633, 49.49691517, 20.11637166],\n",
       "       [18.87418407, 50.14834766, 22.60019605],\n",
       "       [14.65904376, 51.0013881 , 21.36541698],\n",
       "       [10.44390346, 51.85442853, 20.1306379 ],\n",
       "       [ 6.22876316, 52.70746897, 18.89585883],\n",
       "       [ 2.01362286, 53.56050941, 17.66107975],\n",
       "       [ 3.97647044, 44.9208071 , 10.41596779],\n",
       "       [ 7.64780058, 60.23915815, 21.57095789],\n",
       "       [11.05999729, 61.06457398, 28.4218222 ],\n",
       "       [11.77070604, 64.12044956, 27.07002426],\n",
       "       [12.48141478, 67.17632514, 25.71822632],\n",
       "       [13.19212353, 70.23220072, 24.36642838],\n",
       "       [ 6.20808762, 51.17197943, 19.14063191],\n",
       "       [ 9.60225377, 46.40268062, 25.66087602],\n",
       "       [ 2.8138718 , 39.07427445, 19.80608086],\n",
       "       [ 5.95973279, 55.3829235 , 18.20769089],\n",
       "       [ 5.96092489, 54.28272267, 21.48906965],\n",
       "       [ 5.96211699, 53.18252185, 24.77044841],\n",
       "       [ 5.9633091 , 52.08232103, 28.05182716],\n",
       "       [ 7.4912377 , 44.79741069, 12.30888436],\n",
       "       [ 7.65679103, 64.59577697, 19.4063407 ],\n",
       "       [12.28900602, 21.3       , 22.3827785 ],\n",
       "       [ 8.68443365, 57.56877069, 20.32080694],\n",
       "       [ 8.82839667, 54.72845728, 18.03716172],\n",
       "       [ 8.97235969, 51.88814386, 15.75351651],\n",
       "       [ 9.11632271, 49.04783044, 13.46987129],\n",
       "       [ 8.72759772, 57.90864123, 16.84975846],\n",
       "       [11.10316136, 64.65747517, 18.19135604],\n",
       "       [13.57593109, 54.96415743, 18.65229838],\n",
       "       [19.7848019 , 50.62574098, 20.18149706],\n",
       "       [17.97073542, 54.57468638, 21.55500347],\n",
       "       [16.15666894, 58.52363177, 22.92850988],\n",
       "       [14.34260246, 62.47257717, 24.30201629],\n",
       "       [14.90050675, 56.17388884, 19.80579553],\n",
       "       [10.19616952, 68.17751105, 20.41289554],\n",
       "       [ 7.11870545, 66.29406879, 21.09239674],\n",
       "       [ 6.0839102 , 48.93856041, 20.16066835],\n",
       "       [ 6.08690702, 45.34971661, 19.72029318],\n",
       "       [ 6.08990383, 41.7608728 , 19.279918  ],\n",
       "       [ 6.09290065, 38.172029  , 18.83954283],\n",
       "       [ 7.98794736, 38.84166386, 19.89467423],\n",
       "       [ 7.86376994, 57.40695949, 16.03508461],\n",
       "       [ 6.29083945, 72.57555979, 19.22772733],\n",
       "       [ 7.86376994, 59.61709512, 22.15672986],\n",
       "       [12.38934137, 54.77802057, 25.17316069],\n",
       "       [16.9149128 , 49.93894602, 28.18959153],\n",
       "       [21.44048422, 45.09987147, 31.20602236],\n",
       "       [13.53455517, 57.15100967, 31.38406508],\n",
       "       [12.37553284, 47.58918447, 22.46737732],\n",
       "       [14.69352783, 54.96415743, 15.28068563],\n",
       "       [ 9.64362969, 67.99241645, 19.8943889 ],\n",
       "       [13.94544996, 65.77213738, 22.21222555],\n",
       "       [18.24727024, 63.5518583 , 24.5300622 ],\n",
       "       [22.54909052, 61.33157923, 26.84789884],\n",
       "       [17.92214065, 62.57174098, 23.31022701],\n",
       "       [13.45175367, 67.03857902, 21.57958897],\n",
       "       [16.18365683, 51.47444021, 11.59913873],\n",
       "       [16.7424552 , 51.50351653, 12.54190562],\n",
       "       [17.30125357, 51.53259285, 13.48467252],\n",
       "       [17.86005195, 51.56166918, 14.42743941],\n",
       "       [18.41885032, 51.5907455 , 15.37020631],\n",
       "       [18.08769398, 58.47710221, 14.97103681],\n",
       "       [22.51670505, 55.59230653, 20.95957801],\n",
       "       [15.76974866, 44.0296729 , 26.90382252],\n",
       "       [ 9.68505527, 62.03661378, 19.36147336],\n",
       "       [14.15544225, 62.91293296, 18.54858279],\n",
       "       [18.62582924, 63.78925213, 17.73569221],\n",
       "       [23.09621622, 64.66557131, 16.92280163],\n",
       "       [24.33799038, 62.01338622, 26.99241589],\n",
       "       [23.75847921, 67.9459055 , 25.97237945],\n",
       "       [23.6343018 , 60.43134386, 26.59353171],\n",
       "       [18.2946729 , 46.82144668, 20.82675927],\n",
       "       [18.94316048, 51.90093018, 19.48076294],\n",
       "       [19.59164806, 56.98041368, 18.13476661],\n",
       "       [20.24013565, 62.05989717, 16.78877027],\n",
       "       [23.59292588, 60.22196082, 28.14562772],\n",
       "       [13.53455517, 62.45537985, 27.17045862],\n",
       "       [15.76974866, 46.10027568, 24.77344432],\n",
       "       [16.76316799, 54.24293059, 19.98383825],\n",
       "       [17.64620188, 54.21966581, 18.74158129],\n",
       "       [18.52923576, 54.19640103, 17.49932433],\n",
       "       [19.41226965, 54.17313625, 16.25706736],\n",
       "       [19.41226965, 48.61287208, 11.95372622],\n",
       "       [19.90897931, 56.6392217 , 12.30831371],\n",
       "       [19.53644706, 63.03701799, 17.23195114],\n",
       "       [18.41885032, 69.50460864, 16.52277615],\n",
       "       [19.49505459, 68.10097923, 15.26606273],\n",
       "       [20.57125887, 66.69734982, 14.0093493 ],\n",
       "       [21.64746314, 65.29372041, 12.75263588],\n",
       "       [20.86102273, 68.08549419, 23.48677178],\n",
       "       [20.28151156, 69.87686375, 18.07544281],\n",
       "       [19.32946815, 67.62016134, 11.42173799],\n",
       "       [19.61924856, 61.47825902, 12.62010247],\n",
       "       [21.1921625 , 63.16108442, 15.20773757],\n",
       "       [22.76507644, 64.84390982, 17.79537266],\n",
       "       [24.33799038, 66.52673522, 20.38300776],\n",
       "       [25.74531787, 62.66476288, 18.47489764],\n",
       "       [25.78669379, 60.17544987, 14.70440071],\n",
       "       [28.14606469, 59.1285347 , 17.94348005],\n",
       "       [26.8215387 , 57.80244216, 20.87069931],\n",
       "       [27.98052378, 57.5639828 , 18.564026  ],\n",
       "       [29.13950886, 57.32552344, 16.25735269],\n",
       "       [30.29849394, 57.08706409, 13.95067938],\n",
       "       [31.45747902, 56.84860473, 11.64400607],\n",
       "       [30.91939344, 59.10525131, 18.47489764],\n",
       "       [28.47722103, 38.32982005, 24.55196088],\n",
       "       [23.75847921, 41.07508288, 21.75820234],\n",
       "       [24.72429804, 45.6504837 , 18.63805591],\n",
       "       [25.69011687, 50.22588452, 15.51790949],\n",
       "       [26.6559357 , 54.80128535, 12.39776306],\n",
       "       [28.10468878, 54.68498005, 17.0993464 ],\n",
       "       [31.49885493, 56.03430015, 13.46209619],\n",
       "       [33.11316134, 53.03314334, 14.3941099 ],\n",
       "       [30.46405969, 55.08046272, 13.72866096],\n",
       "       [28.47722103, 53.02540082, 17.6470275 ],\n",
       "       [26.49038237, 50.97033892, 21.56539405],\n",
       "       [24.50354371, 48.91527702, 25.4837606 ],\n",
       "       [22.9720388 , 49.61322046, 22.91105751],\n",
       "       [24.08963555, 47.63575126, 15.68014046],\n",
       "       [24.17238738, 59.73340041, 18.43060095],\n",
       "       [25.20723229, 62.3855855 , 13.90520572],\n",
       "       [24.97266943, 62.57946488, 14.20113518],\n",
       "       [24.73810657, 62.77334427, 14.49706463],\n",
       "       [24.50354371, 62.96722365, 14.79299408],\n",
       "       [26.78011312, 64.31659959, 15.90219454],\n",
       "       [29.38783886, 60.80359897, 15.99043126],\n",
       "       [29.13948402, 60.57093254, 20.73695327],\n",
       "       [28.93255478, 53.31232072, 19.54008674],\n",
       "       [28.24267472, 54.89432586, 16.81910982],\n",
       "       [27.55279467, 56.476331  , 14.0981329 ],\n",
       "       [26.86291462, 58.05833614, 11.37715597],\n",
       "       [29.92597411, 56.70901604, 13.99465507],\n",
       "       [29.13948402, 49.10143249, 22.37878395],\n",
       "       [27.5666032 , 45.54192093, 16.92130368],\n",
       "       [28.84975328, 43.4248072 , 11.0219265 ],\n",
       "       [29.14985284, 46.13515889, 11.44367234],\n",
       "       [29.4499524 , 48.84551059, 11.86541817],\n",
       "       [29.75005196, 51.55586229, 12.28716401],\n",
       "       [30.05015152, 54.26621398, 12.70890984],\n",
       "       [28.72557586, 62.80435157, 14.3941099 ],\n",
       "       [30.21570485, 57.66285347, 15.05870287],\n",
       "       [28.18749028, 63.61865614, 19.76149884],\n",
       "       [29.07052417, 61.34645008, 21.12173764],\n",
       "       [29.95355805, 59.07424401, 22.48197645],\n",
       "       [30.83659194, 56.80203794, 23.84221525],\n",
       "       [32.40952243, 52.52135537, 17.98713476]])"
      ]
     },
     "execution_count": 36,
     "metadata": {},
     "output_type": "execute_result"
    }
   ],
   "source": [
    "x= df.iloc[:,1:-1].values\n",
    "x"
   ]
  },
  {
   "cell_type": "code",
   "execution_count": 37,
   "metadata": {},
   "outputs": [
    {
     "data": {
      "text/plain": [
       "array([ 120.        ,  108.        ,   82.        ,   88.        ,\n",
       "        148.        ,  112.33333333,   76.66666667,   41.        ,\n",
       "         43.        ,   25.        ,   38.        ,   54.        ,\n",
       "         42.75      ,   31.5       ,   20.25      ,    9.        ,\n",
       "         78.        ,   83.        ,   75.        ,   78.66666667,\n",
       "         82.33333333,   86.        ,  186.        ,   34.        ,\n",
       "         15.        ,   38.        ,   39.33333333,   40.66666667,\n",
       "         42.        ,   47.        ,   72.        ,   61.        ,\n",
       "         88.        ,   98.66666667,  109.33333333,  120.        ,\n",
       "         64.        ,   53.        ,   47.        ,  149.        ,\n",
       "        168.66666667,  188.33333333,  208.        ,  140.        ,\n",
       "        218.        ,  259.        ,  579.        ,  452.75      ,\n",
       "        326.5       ,  200.25      ,   74.        ,  139.        ,\n",
       "        100.        ,  120.        ,  107.        ,   94.        ,\n",
       "         81.        ,  137.        ,  231.        ,  123.        ,\n",
       "        214.        ,  224.        ,  234.        ,  244.        ,\n",
       "        316.        ,  191.        ,   46.        ,  247.        ,\n",
       "        284.33333333,  321.66666667,  359.        ,  289.        ,\n",
       "        321.        ,  424.        ,  884.        ,  723.        ,\n",
       "        562.        ,  401.        ,  460.        ,  203.        ,\n",
       "        166.        ,  300.        ,  274.        ,  248.        ,\n",
       "        222.        ,  317.        ,  168.        ,  179.        ,\n",
       "        307.        ,  449.33333333,  591.66666667,  734.        ,\n",
       "        167.        ,  413.        ,  571.        ,  172.        ,\n",
       "        399.66666667,  627.33333333,  855.        ,  257.        ,\n",
       "        209.        ,  529.        ,  564.        ,  599.        ,\n",
       "        634.        ,  669.        ,  409.        ,  613.        ,\n",
       "        745.        ,  177.        ,  375.66666667,  574.33333333,\n",
       "        773.        ,  678.        ,  547.        ,  569.        ,\n",
       "        878.        ,  867.66666667,  857.33333333,  847.        ,\n",
       "        603.        ,  255.        ,  614.        ,  894.        ,\n",
       "        817.33333333,  740.66666667,  664.        ,  694.        ,\n",
       "        550.        ,  695.        ,  692.        ,  719.        ,\n",
       "        746.        ,  773.        ,  678.        ,  536.        ,\n",
       "        735.        ,  909.        ,  884.66666667,  860.33333333,\n",
       "        836.        ,  659.        ,  740.        ,  758.        ,\n",
       "        871.        ,  821.5       ,  772.        ,  722.5       ,\n",
       "        673.        ,  513.        ,  736.        ,  898.        ,\n",
       "        823.        ,  748.        ,  673.        ,  763.        ,\n",
       "        676.        ,  563.        ,  815.        ,  831.        ,\n",
       "        847.        ,  863.        ,  727.        ,  769.        ,\n",
       "        545.        ,  863.        ,  808.33333333,  753.66666667,\n",
       "        699.        ,  774.        ,  661.        ,  746.        ,\n",
       "        969.        ,  930.66666667,  892.33333333,  854.        ,\n",
       "        732.        ,  848.        , 1027.        , 1246.        ,\n",
       "       1192.25      , 1138.5       , 1084.75      , 1031.        ,\n",
       "        784.        ,  754.        ,  692.        ,  702.33333333,\n",
       "        712.66666667,  723.        ,  662.        ])"
      ]
     },
     "execution_count": 37,
     "metadata": {},
     "output_type": "execute_result"
    }
   ],
   "source": [
    "y = df.iloc[:,-1].values\n",
    "y"
   ]
  },
  {
   "cell_type": "code",
   "execution_count": 38,
   "metadata": {},
   "outputs": [],
   "source": [
    "# now will do train test split to train model..."
   ]
  },
  {
   "cell_type": "code",
   "execution_count": null,
   "metadata": {},
   "outputs": [],
   "source": []
  },
  {
   "cell_type": "code",
   "execution_count": 39,
   "metadata": {},
   "outputs": [],
   "source": [
    "from sklearn.model_selection import train_test_split\n"
   ]
  },
  {
   "cell_type": "code",
   "execution_count": 48,
   "metadata": {},
   "outputs": [],
   "source": [
    "x_train,x_test,y_train,y_test=train_test_split(x,y, test_size=.33, random_state= 47)"
   ]
  },
  {
   "cell_type": "code",
   "execution_count": 49,
   "metadata": {},
   "outputs": [],
   "source": [
    "lr= LinearRegression()\n"
   ]
  },
  {
   "cell_type": "code",
   "execution_count": 50,
   "metadata": {},
   "outputs": [
    {
     "data": {
      "text/plain": [
       "LinearRegression(copy_X=True, fit_intercept=True, n_jobs=None,\n",
       "         normalize=False)"
      ]
     },
     "execution_count": 50,
     "metadata": {},
     "output_type": "execute_result"
    }
   ],
   "source": [
    "lr.fit(x_train,y_train)"
   ]
  },
  {
   "cell_type": "code",
   "execution_count": 51,
   "metadata": {},
   "outputs": [
    {
     "data": {
      "text/plain": [
       "0.811793265736199"
      ]
     },
     "execution_count": 51,
     "metadata": {},
     "output_type": "execute_result"
    }
   ],
   "source": [
    "lr.score(x_train,y_train)"
   ]
  },
  {
   "cell_type": "code",
   "execution_count": 52,
   "metadata": {},
   "outputs": [
    {
     "data": {
      "text/plain": [
       "array([ 5.32906770e+01,  9.85874737e+01,  9.58367505e+02,  5.88832525e+02,\n",
       "        9.79534120e+01,  2.93296616e+02, -4.35403998e+00,  1.56095497e+02,\n",
       "        5.72634399e+02,  8.72428069e+02,  8.75072699e+02,  5.93865282e+02,\n",
       "        1.22730545e+02,  2.01551778e+02,  5.85106460e+02,  8.61156843e+02,\n",
       "        6.44306474e+02,  6.81352602e+02,  7.68418412e-02,  9.19241281e+02,\n",
       "        4.01530182e+02,  5.21033865e+02,  7.10364955e+02,  4.51894834e+02,\n",
       "        1.04860744e+02,  4.44314089e+02,  1.66196271e+01,  9.95346569e+02,\n",
       "        7.14712544e+02,  7.76879956e+02,  1.20632249e+02,  9.79650880e+01,\n",
       "        1.79951605e+02,  9.45599170e+01,  6.85262646e+01,  2.30394414e+02,\n",
       "        4.38773653e+02,  7.80704494e+02,  7.89828329e+02,  9.48443104e+01,\n",
       "        5.66051450e+02,  9.54367880e+02,  8.72484590e+02,  6.08390227e+02,\n",
       "        9.85756531e+02,  8.85936281e+02,  6.02674066e+02,  2.14689733e+02,\n",
       "        9.66366756e+02,  7.92282729e+02,  5.66814311e+02,  2.72696996e+01,\n",
       "        3.57102029e+02,  8.39911259e+02,  9.56118278e+02,  4.38430529e+02,\n",
       "        1.97548994e+02,  3.07005119e+02,  1.43583531e+02,  6.58766167e+02,\n",
       "        3.45395177e+02,  7.50992549e+02,  2.59736988e+02,  5.58726380e+02])"
      ]
     },
     "execution_count": 52,
     "metadata": {},
     "output_type": "execute_result"
    }
   ],
   "source": [
    "pred = lr.predict(x_test)\n",
    "pred"
   ]
  },
  {
   "cell_type": "code",
   "execution_count": 53,
   "metadata": {},
   "outputs": [
    {
     "name": "stdout",
     "output_type": "stream",
     "text": [
      "17619.824077777197\n",
      "0.8345060117271246\n"
     ]
    }
   ],
   "source": [
    "print(mean_squared_error(y_test, pred))\n",
    "print(r2_score(y_test, pred))"
   ]
  },
  {
   "cell_type": "code",
   "execution_count": 54,
   "metadata": {},
   "outputs": [
    {
     "data": {
      "text/plain": [
       "array([ 3., 25., 21.])"
      ]
     },
     "execution_count": 54,
     "metadata": {},
     "output_type": "execute_result"
    }
   ],
   "source": [
    "t = np.array([3.0, 25.0, 21.0])\n",
    "t"
   ]
  },
  {
   "cell_type": "code",
   "execution_count": 55,
   "metadata": {},
   "outputs": [
    {
     "data": {
      "text/plain": [
       "array([[ 3., 25., 21.]])"
      ]
     },
     "execution_count": 55,
     "metadata": {},
     "output_type": "execute_result"
    }
   ],
   "source": [
    "td=t.reshape(1,-1)\n",
    "td"
   ]
  },
  {
   "cell_type": "code",
   "execution_count": 56,
   "metadata": {},
   "outputs": [
    {
     "data": {
      "text/plain": [
       "array([185.26583415])"
      ]
     },
     "execution_count": 56,
     "metadata": {},
     "output_type": "execute_result"
    }
   ],
   "source": [
    "predy= lr.predict(td)\n",
    "predy"
   ]
  },
  {
   "cell_type": "code",
   "execution_count": 59,
   "metadata": {},
   "outputs": [
    {
     "data": {
      "text/plain": [
       "<seaborn.axisgrid.PairGrid at 0x28432c02da0>"
      ]
     },
     "execution_count": 59,
     "metadata": {},
     "output_type": "execute_result"
    },
    {
     "data": {
      "image/png": "[encoded data removed]",
      "text/plain": [
       "<Figure size 1058.4x504 with 3 Axes>"
      ]
     },
     "metadata": {
      "needs_background": "light"
     },
     "output_type": "display_data"
    }
   ],
   "source": [
    "sns.pairplot(df, x_vars=['temperature','humidity', 'windspeed'], y_vars=['count'], aspect = 0.7, height = 7, kind= 'reg')"
   ]
  },
  {
   "cell_type": "code",
   "execution_count": null,
   "metadata": {},
   "outputs": [],
   "source": [
    "# here we can see temeprature has more positive impact on count, where as humidity has weak relation and windspeed has negetive impact ...."
   ]
  }
 ],
 "metadata": {
  "kernelspec": {
   "display_name": "Python 3",
   "language": "python",
   "name": "python3"
  },
  "language_info": {
   "codemirror_mode": {
    "name": "ipython",
    "version": 3
   },
   "file_extension": ".py",
   "mimetype": "text/x-python",
   "name": "python",
   "nbconvert_exporter": "python",
   "pygments_lexer": "ipython3",
   "version": "3.7.3"
  }
 },
 "nbformat": 4,
 "nbformat_minor": 2
}
