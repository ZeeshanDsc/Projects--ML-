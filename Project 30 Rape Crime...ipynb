{
 "cells": [
  {
   "cell_type": "code",
   "execution_count": 1,
   "metadata": {},
   "outputs": [],
   "source": [
    "import pandas as pd\n",
    "import numpy as np\n"
   ]
  },
  {
   "cell_type": "code",
   "execution_count": 10,
   "metadata": {},
   "outputs": [],
   "source": [
    "df= pd.read_csv('rapedataset.csv')"
   ]
  },
  {
   "cell_type": "code",
   "execution_count": 11,
   "metadata": {},
   "outputs": [
    {
     "data": {
      "text/html": [
       "<div>\n",
       "<style scoped>\n",
       "    .dataframe tbody tr th:only-of-type {\n",
       "        vertical-align: middle;\n",
       "    }\n",
       "\n",
       "    .dataframe tbody tr th {\n",
       "        vertical-align: top;\n",
       "    }\n",
       "\n",
       "    .dataframe thead th {\n",
       "        text-align: right;\n",
       "    }\n",
       "</style>\n",
       "<table border=\"1\" class=\"dataframe\">\n",
       "  <thead>\n",
       "    <tr style=\"text-align: right;\">\n",
       "      <th></th>\n",
       "      <th>Area_Name</th>\n",
       "      <th>Year</th>\n",
       "      <th>Subgroup</th>\n",
       "      <th>Rape_Cases_Reported</th>\n",
       "      <th>Victims_Above_50_Yrs</th>\n",
       "      <th>Victims_Between_10-14_Yrs</th>\n",
       "      <th>Victims_Between_14-18_Yrs</th>\n",
       "      <th>Victims_Between_18-30_Yrs</th>\n",
       "      <th>Victims_Between_30-50_Yrs</th>\n",
       "      <th>Victims_of_Rape_Total</th>\n",
       "      <th>Victims_Upto_10_Yrs</th>\n",
       "    </tr>\n",
       "  </thead>\n",
       "  <tbody>\n",
       "    <tr>\n",
       "      <th>0</th>\n",
       "      <td>Andaman &amp; Nicobar Islands</td>\n",
       "      <td>2001</td>\n",
       "      <td>Total Rape Victims</td>\n",
       "      <td>3</td>\n",
       "      <td>0</td>\n",
       "      <td>0</td>\n",
       "      <td>3</td>\n",
       "      <td>0</td>\n",
       "      <td>0</td>\n",
       "      <td>3</td>\n",
       "      <td>0</td>\n",
       "    </tr>\n",
       "    <tr>\n",
       "      <th>1</th>\n",
       "      <td>Andaman &amp; Nicobar Islands</td>\n",
       "      <td>2001</td>\n",
       "      <td>Victims of Incest Rape</td>\n",
       "      <td>1</td>\n",
       "      <td>0</td>\n",
       "      <td>0</td>\n",
       "      <td>1</td>\n",
       "      <td>0</td>\n",
       "      <td>0</td>\n",
       "      <td>1</td>\n",
       "      <td>0</td>\n",
       "    </tr>\n",
       "    <tr>\n",
       "      <th>2</th>\n",
       "      <td>Andaman &amp; Nicobar Islands</td>\n",
       "      <td>2001</td>\n",
       "      <td>Victims of Other Rape</td>\n",
       "      <td>2</td>\n",
       "      <td>0</td>\n",
       "      <td>0</td>\n",
       "      <td>2</td>\n",
       "      <td>0</td>\n",
       "      <td>0</td>\n",
       "      <td>2</td>\n",
       "      <td>0</td>\n",
       "    </tr>\n",
       "    <tr>\n",
       "      <th>3</th>\n",
       "      <td>Andaman &amp; Nicobar Islands</td>\n",
       "      <td>2002</td>\n",
       "      <td>Total Rape Victims</td>\n",
       "      <td>2</td>\n",
       "      <td>0</td>\n",
       "      <td>0</td>\n",
       "      <td>1</td>\n",
       "      <td>1</td>\n",
       "      <td>0</td>\n",
       "      <td>2</td>\n",
       "      <td>0</td>\n",
       "    </tr>\n",
       "    <tr>\n",
       "      <th>4</th>\n",
       "      <td>Andaman &amp; Nicobar Islands</td>\n",
       "      <td>2002</td>\n",
       "      <td>Victims of Incest Rape</td>\n",
       "      <td>0</td>\n",
       "      <td>0</td>\n",
       "      <td>0</td>\n",
       "      <td>0</td>\n",
       "      <td>0</td>\n",
       "      <td>0</td>\n",
       "      <td>0</td>\n",
       "      <td>0</td>\n",
       "    </tr>\n",
       "  </tbody>\n",
       "</table>\n",
       "</div>"
      ],
      "text/plain": [
       "                   Area_Name  Year                Subgroup  \\\n",
       "0  Andaman & Nicobar Islands  2001      Total Rape Victims   \n",
       "1  Andaman & Nicobar Islands  2001  Victims of Incest Rape   \n",
       "2  Andaman & Nicobar Islands  2001   Victims of Other Rape   \n",
       "3  Andaman & Nicobar Islands  2002      Total Rape Victims   \n",
       "4  Andaman & Nicobar Islands  2002  Victims of Incest Rape   \n",
       "\n",
       "   Rape_Cases_Reported  Victims_Above_50_Yrs  Victims_Between_10-14_Yrs  \\\n",
       "0                    3                     0                          0   \n",
       "1                    1                     0                          0   \n",
       "2                    2                     0                          0   \n",
       "3                    2                     0                          0   \n",
       "4                    0                     0                          0   \n",
       "\n",
       "   Victims_Between_14-18_Yrs  Victims_Between_18-30_Yrs  \\\n",
       "0                          3                          0   \n",
       "1                          1                          0   \n",
       "2                          2                          0   \n",
       "3                          1                          1   \n",
       "4                          0                          0   \n",
       "\n",
       "   Victims_Between_30-50_Yrs  Victims_of_Rape_Total  Victims_Upto_10_Yrs  \n",
       "0                          0                      3                    0  \n",
       "1                          0                      1                    0  \n",
       "2                          0                      2                    0  \n",
       "3                          0                      2                    0  \n",
       "4                          0                      0                    0  "
      ]
     },
     "execution_count": 11,
     "metadata": {},
     "output_type": "execute_result"
    }
   ],
   "source": [
    "df.head()"
   ]
  },
  {
   "cell_type": "code",
   "execution_count": 12,
   "metadata": {},
   "outputs": [
    {
     "data": {
      "text/plain": [
       "Area_Name                    0\n",
       "Year                         0\n",
       "Subgroup                     0\n",
       "Rape_Cases_Reported          0\n",
       "Victims_Above_50_Yrs         0\n",
       "Victims_Between_10-14_Yrs    0\n",
       "Victims_Between_14-18_Yrs    0\n",
       "Victims_Between_18-30_Yrs    0\n",
       "Victims_Between_30-50_Yrs    0\n",
       "Victims_of_Rape_Total        0\n",
       "Victims_Upto_10_Yrs          0\n",
       "dtype: int64"
      ]
     },
     "execution_count": 12,
     "metadata": {},
     "output_type": "execute_result"
    }
   ],
   "source": [
    "df.isnull().sum()"
   ]
  },
  {
   "cell_type": "code",
   "execution_count": 13,
   "metadata": {},
   "outputs": [],
   "source": [
    "import matplotlib.pyplot as plt\n",
    "import seaborn as sns\n",
    "import warnings\n",
    "warnings.filterwarnings('ignore')"
   ]
  },
  {
   "cell_type": "code",
   "execution_count": 15,
   "metadata": {},
   "outputs": [
    {
     "data": {
      "text/html": [
       "<div>\n",
       "<style scoped>\n",
       "    .dataframe tbody tr th:only-of-type {\n",
       "        vertical-align: middle;\n",
       "    }\n",
       "\n",
       "    .dataframe tbody tr th {\n",
       "        vertical-align: top;\n",
       "    }\n",
       "\n",
       "    .dataframe thead th {\n",
       "        text-align: right;\n",
       "    }\n",
       "</style>\n",
       "<table border=\"1\" class=\"dataframe\">\n",
       "  <thead>\n",
       "    <tr style=\"text-align: right;\">\n",
       "      <th></th>\n",
       "      <th>Area_Name</th>\n",
       "      <th>Year</th>\n",
       "      <th>Subgroup</th>\n",
       "      <th>Rape_Cases_Reported</th>\n",
       "      <th>Victims_Above_50_Yrs</th>\n",
       "      <th>Victims_Between_10-14_Yrs</th>\n",
       "      <th>Victims_Between_14-18_Yrs</th>\n",
       "      <th>Victims_Between_18-30_Yrs</th>\n",
       "      <th>Victims_Between_30-50_Yrs</th>\n",
       "      <th>Victims_of_Rape_Total</th>\n",
       "      <th>Victims_Upto_10_Yrs</th>\n",
       "    </tr>\n",
       "  </thead>\n",
       "  <tbody>\n",
       "    <tr>\n",
       "      <th>152</th>\n",
       "      <td>Chandigarh</td>\n",
       "      <td>2001</td>\n",
       "      <td>Victims of Other Rape</td>\n",
       "      <td>16</td>\n",
       "      <td>0</td>\n",
       "      <td>8</td>\n",
       "      <td>4</td>\n",
       "      <td>2</td>\n",
       "      <td>3</td>\n",
       "      <td>17</td>\n",
       "      <td>0</td>\n",
       "    </tr>\n",
       "    <tr>\n",
       "      <th>272</th>\n",
       "      <td>Delhi</td>\n",
       "      <td>2001</td>\n",
       "      <td>Victims of Other Rape</td>\n",
       "      <td>372</td>\n",
       "      <td>0</td>\n",
       "      <td>78</td>\n",
       "      <td>152</td>\n",
       "      <td>58</td>\n",
       "      <td>41</td>\n",
       "      <td>374</td>\n",
       "      <td>45</td>\n",
       "    </tr>\n",
       "    <tr>\n",
       "      <th>275</th>\n",
       "      <td>Delhi</td>\n",
       "      <td>2002</td>\n",
       "      <td>Victims of Other Rape</td>\n",
       "      <td>371</td>\n",
       "      <td>0</td>\n",
       "      <td>48</td>\n",
       "      <td>40</td>\n",
       "      <td>207</td>\n",
       "      <td>49</td>\n",
       "      <td>375</td>\n",
       "      <td>31</td>\n",
       "    </tr>\n",
       "    <tr>\n",
       "      <th>284</th>\n",
       "      <td>Delhi</td>\n",
       "      <td>2005</td>\n",
       "      <td>Victims of Other Rape</td>\n",
       "      <td>626</td>\n",
       "      <td>2</td>\n",
       "      <td>111</td>\n",
       "      <td>45</td>\n",
       "      <td>402</td>\n",
       "      <td>25</td>\n",
       "      <td>634</td>\n",
       "      <td>49</td>\n",
       "    </tr>\n",
       "    <tr>\n",
       "      <th>287</th>\n",
       "      <td>Delhi</td>\n",
       "      <td>2006</td>\n",
       "      <td>Victims of Other Rape</td>\n",
       "      <td>597</td>\n",
       "      <td>2</td>\n",
       "      <td>107</td>\n",
       "      <td>255</td>\n",
       "      <td>148</td>\n",
       "      <td>21</td>\n",
       "      <td>600</td>\n",
       "      <td>67</td>\n",
       "    </tr>\n",
       "  </tbody>\n",
       "</table>\n",
       "</div>"
      ],
      "text/plain": [
       "      Area_Name  Year               Subgroup  Rape_Cases_Reported  \\\n",
       "152  Chandigarh  2001  Victims of Other Rape                   16   \n",
       "272       Delhi  2001  Victims of Other Rape                  372   \n",
       "275       Delhi  2002  Victims of Other Rape                  371   \n",
       "284       Delhi  2005  Victims of Other Rape                  626   \n",
       "287       Delhi  2006  Victims of Other Rape                  597   \n",
       "\n",
       "     Victims_Above_50_Yrs  Victims_Between_10-14_Yrs  \\\n",
       "152                     0                          8   \n",
       "272                     0                         78   \n",
       "275                     0                         48   \n",
       "284                     2                        111   \n",
       "287                     2                        107   \n",
       "\n",
       "     Victims_Between_14-18_Yrs  Victims_Between_18-30_Yrs  \\\n",
       "152                          4                          2   \n",
       "272                        152                         58   \n",
       "275                         40                        207   \n",
       "284                         45                        402   \n",
       "287                        255                        148   \n",
       "\n",
       "     Victims_Between_30-50_Yrs  Victims_of_Rape_Total  Victims_Upto_10_Yrs  \n",
       "152                          3                     17                    0  \n",
       "272                         41                    374                   45  \n",
       "275                         49                    375                   31  \n",
       "284                         25                    634                   49  \n",
       "287                         21                    600                   67  "
      ]
     },
     "execution_count": 15,
     "metadata": {},
     "output_type": "execute_result"
    }
   ],
   "source": [
    "# we don't need the Total Rape Victims subgroup (we can do that in Pandas), let's remove it\n",
    "df = df[df['Subgroup'] != 'Total Rape Victims']\n",
    "\n",
    "# let's check if the all the rape cases are reported\n",
    "df[df['Victims_of_Rape_Total'] != df['Rape_Cases_Reported']].head()"
   ]
  },
  {
   "cell_type": "code",
   "execution_count": 17,
   "metadata": {},
   "outputs": [],
   "source": [
    "df['Unreported_Cases'] = df['Victims_of_Rape_Total'] - df['Rape_Cases_Reported']"
   ]
  },
  {
   "cell_type": "code",
   "execution_count": 18,
   "metadata": {},
   "outputs": [
    {
     "data": {
      "text/plain": [
       "Index(['Area_Name', 'Year', 'Subgroup', 'Rape_Cases_Reported',\n",
       "       'Victims_Above_50_Yrs', 'Victims_Between_10-14_Yrs',\n",
       "       'Victims_Between_14-18_Yrs', 'Victims_Between_18-30_Yrs',\n",
       "       'Victims_Between_30-50_Yrs', 'Victims_of_Rape_Total',\n",
       "       'Victims_Upto_10_Yrs', 'Unreported_Cases'],\n",
       "      dtype='object')"
      ]
     },
     "execution_count": 18,
     "metadata": {},
     "output_type": "execute_result"
    }
   ],
   "source": [
    "df.columns\n"
   ]
  },
  {
   "cell_type": "code",
   "execution_count": 19,
   "metadata": {},
   "outputs": [
    {
     "data": {
      "text/html": [
       "<div>\n",
       "<style scoped>\n",
       "    .dataframe tbody tr th:only-of-type {\n",
       "        vertical-align: middle;\n",
       "    }\n",
       "\n",
       "    .dataframe tbody tr th {\n",
       "        vertical-align: top;\n",
       "    }\n",
       "\n",
       "    .dataframe thead th {\n",
       "        text-align: right;\n",
       "    }\n",
       "</style>\n",
       "<table border=\"1\" class=\"dataframe\">\n",
       "  <thead>\n",
       "    <tr style=\"text-align: right;\">\n",
       "      <th></th>\n",
       "      <th>Area_Name</th>\n",
       "      <th>Year</th>\n",
       "      <th>Subgroup</th>\n",
       "      <th>Rape_Cases_Reported</th>\n",
       "      <th>Victims_Above_50_Yrs</th>\n",
       "      <th>Victims_Between_10-14_Yrs</th>\n",
       "      <th>Victims_Between_14-18_Yrs</th>\n",
       "      <th>Victims_Between_18-30_Yrs</th>\n",
       "      <th>Victims_Between_30-50_Yrs</th>\n",
       "      <th>Victims_of_Rape_Total</th>\n",
       "      <th>Victims_Upto_10_Yrs</th>\n",
       "      <th>Unreported_Cases</th>\n",
       "    </tr>\n",
       "  </thead>\n",
       "  <tbody>\n",
       "    <tr>\n",
       "      <th>152</th>\n",
       "      <td>Chandigarh</td>\n",
       "      <td>2001</td>\n",
       "      <td>Victims of Other Rape</td>\n",
       "      <td>16</td>\n",
       "      <td>0</td>\n",
       "      <td>8</td>\n",
       "      <td>4</td>\n",
       "      <td>2</td>\n",
       "      <td>3</td>\n",
       "      <td>17</td>\n",
       "      <td>0</td>\n",
       "      <td>1</td>\n",
       "    </tr>\n",
       "    <tr>\n",
       "      <th>272</th>\n",
       "      <td>Delhi</td>\n",
       "      <td>2001</td>\n",
       "      <td>Victims of Other Rape</td>\n",
       "      <td>372</td>\n",
       "      <td>0</td>\n",
       "      <td>78</td>\n",
       "      <td>152</td>\n",
       "      <td>58</td>\n",
       "      <td>41</td>\n",
       "      <td>374</td>\n",
       "      <td>45</td>\n",
       "      <td>2</td>\n",
       "    </tr>\n",
       "    <tr>\n",
       "      <th>275</th>\n",
       "      <td>Delhi</td>\n",
       "      <td>2002</td>\n",
       "      <td>Victims of Other Rape</td>\n",
       "      <td>371</td>\n",
       "      <td>0</td>\n",
       "      <td>48</td>\n",
       "      <td>40</td>\n",
       "      <td>207</td>\n",
       "      <td>49</td>\n",
       "      <td>375</td>\n",
       "      <td>31</td>\n",
       "      <td>4</td>\n",
       "    </tr>\n",
       "    <tr>\n",
       "      <th>284</th>\n",
       "      <td>Delhi</td>\n",
       "      <td>2005</td>\n",
       "      <td>Victims of Other Rape</td>\n",
       "      <td>626</td>\n",
       "      <td>2</td>\n",
       "      <td>111</td>\n",
       "      <td>45</td>\n",
       "      <td>402</td>\n",
       "      <td>25</td>\n",
       "      <td>634</td>\n",
       "      <td>49</td>\n",
       "      <td>8</td>\n",
       "    </tr>\n",
       "    <tr>\n",
       "      <th>287</th>\n",
       "      <td>Delhi</td>\n",
       "      <td>2006</td>\n",
       "      <td>Victims of Other Rape</td>\n",
       "      <td>597</td>\n",
       "      <td>2</td>\n",
       "      <td>107</td>\n",
       "      <td>255</td>\n",
       "      <td>148</td>\n",
       "      <td>21</td>\n",
       "      <td>600</td>\n",
       "      <td>67</td>\n",
       "      <td>3</td>\n",
       "    </tr>\n",
       "  </tbody>\n",
       "</table>\n",
       "</div>"
      ],
      "text/plain": [
       "      Area_Name  Year               Subgroup  Rape_Cases_Reported  \\\n",
       "152  Chandigarh  2001  Victims of Other Rape                   16   \n",
       "272       Delhi  2001  Victims of Other Rape                  372   \n",
       "275       Delhi  2002  Victims of Other Rape                  371   \n",
       "284       Delhi  2005  Victims of Other Rape                  626   \n",
       "287       Delhi  2006  Victims of Other Rape                  597   \n",
       "\n",
       "     Victims_Above_50_Yrs  Victims_Between_10-14_Yrs  \\\n",
       "152                     0                          8   \n",
       "272                     0                         78   \n",
       "275                     0                         48   \n",
       "284                     2                        111   \n",
       "287                     2                        107   \n",
       "\n",
       "     Victims_Between_14-18_Yrs  Victims_Between_18-30_Yrs  \\\n",
       "152                          4                          2   \n",
       "272                        152                         58   \n",
       "275                         40                        207   \n",
       "284                         45                        402   \n",
       "287                        255                        148   \n",
       "\n",
       "     Victims_Between_30-50_Yrs  Victims_of_Rape_Total  Victims_Upto_10_Yrs  \\\n",
       "152                          3                     17                    0   \n",
       "272                         41                    374                   45   \n",
       "275                         49                    375                   31   \n",
       "284                         25                    634                   49   \n",
       "287                         21                    600                   67   \n",
       "\n",
       "     Unreported_Cases  \n",
       "152                 1  \n",
       "272                 2  \n",
       "275                 4  \n",
       "284                 8  \n",
       "287                 3  "
      ]
     },
     "execution_count": 19,
     "metadata": {},
     "output_type": "execute_result"
    }
   ],
   "source": [
    "# let's taka a look at the new dataframe\n",
    "df[df['Unreported_Cases'] > 0].head()"
   ]
  },
  {
   "cell_type": "code",
   "execution_count": 20,
   "metadata": {},
   "outputs": [],
   "source": [
    "# let's plot the unreported rape cases sorted by states throughout 2001 to 2010\n"
   ]
  },
  {
   "cell_type": "code",
   "execution_count": 44,
   "metadata": {},
   "outputs": [],
   "source": [
    "#unreported_victims_by_state =\n",
    "dfur = df.groupby('Area_Name').sum()\n"
   ]
  },
  {
   "cell_type": "code",
   "execution_count": 46,
   "metadata": {},
   "outputs": [],
   "source": [
    "dfur.drop('Year', axis = 1, inplace = True)"
   ]
  },
  {
   "cell_type": "code",
   "execution_count": 47,
   "metadata": {},
   "outputs": [
    {
     "data": {
      "image/png": "[encoded data removed]",
      "text/plain": [
       "<Figure size 1080x432 with 1 Axes>"
      ]
     },
     "metadata": {
      "needs_background": "light"
     },
     "output_type": "display_data"
    }
   ],
   "source": [
    "plt.subplots(figsize=(15,6))\n",
    "rt = dfur[dfur['Unreported_Cases']>0]['Unreported_Cases'].sort_values()\n",
    "ax = rt.plot.bar()\n",
    "                                                                                    \n",
    "ax.set_xlabel('Area Name')\n",
    "ax.set_ylabel('Total Number of Unreported Rape Victims from 2001 to 2010')\n",
    "ax.set_title('Statewise total Unreported Rape Victims throughout 2001 to 2010')\n",
    "plt.show()                                                                                  "
   ]
  },
  {
   "cell_type": "code",
   "execution_count": 48,
   "metadata": {},
   "outputs": [
    {
     "name": "stdout",
     "output_type": "stream",
     "text": [
      "total rape victims : 190008\n"
     ]
    }
   ],
   "source": [
    "#dfrs = rape_victims_by_state \n",
    "dfrs = df.groupby('Area_Name').sum()\n",
    "dfrs.drop('Year', axis=1, inplace=True)\n",
    "print('total rape victims :', df['Rape_Cases_Reported'].sum())  # dfu = unreported victims by state"
   ]
  },
  {
   "cell_type": "code",
   "execution_count": 49,
   "metadata": {},
   "outputs": [
    {
     "data": {
      "image/png": "[encoded data removed]",
      "text/plain": [
       "<Figure size 720x720 with 2 Axes>"
      ]
     },
     "metadata": {
      "needs_background": "light"
     },
     "output_type": "display_data"
    }
   ],
   "source": [
    "plt.figure(figsize=(10,10))\n",
    "sns.heatmap(dfrs, cmap='Reds')\n",
    "plt.show()"
   ]
  },
  {
   "cell_type": "code",
   "execution_count": 50,
   "metadata": {},
   "outputs": [
    {
     "data": {
      "image/png": "[encoded data removed]",
      "text/plain": [
       "<Figure size 1080x432 with 1 Axes>"
      ]
     },
     "metadata": {
      "needs_background": "light"
     },
     "output_type": "display_data"
    },
    {
     "name": "stdout",
     "output_type": "stream",
     "text": [
      "Area_Name\n",
      "Madhya Pradesh               29256\n",
      "West Bengal                  16378\n",
      "Uttar Pradesh                15053\n",
      "Maharashtra                  14446\n",
      "Assam                        12762\n",
      "Rajasthan                    11949\n",
      "Bihar                        11263\n",
      "Andhra Pradesh               10696\n",
      "Chhattisgarh                  9751\n",
      "Odisha                        8860\n",
      "Jharkhand                     7563\n",
      "Tamil Nadu                    5538\n",
      "Kerala                        5296\n",
      "Delhi                         5146\n",
      "Haryana                       5009\n",
      "Punjab                        4300\n",
      "Karnataka                     3917\n",
      "Gujarat                       3337\n",
      "Jammu & Kashmir               2230\n",
      "Tripura                       1624\n",
      "Himachal Pradesh              1453\n",
      "Uttarakhand                   1101\n",
      "Meghalaya                      726\n",
      "Mizoram                        646\n",
      "Arunachal Pradesh              412\n",
      "Manipur                        271\n",
      "Goa                            266\n",
      "Chandigarh                     227\n",
      "Nagaland                       176\n",
      "Sikkim                         145\n",
      "Andaman & Nicobar Islands       84\n",
      "Puducherry                      57\n",
      "Dadra & Nagar Haveli            49\n",
      "Daman & Diu                     14\n",
      "Lakshadweep                      7\n",
      "Name: Rape_Cases_Reported, dtype: int64\n"
     ]
    }
   ],
   "source": [
    "plt.subplots(figsize=(15,6))\n",
    "rt1 = dfrs['Rape_Cases_Reported'].sort_values(ascending=False)\n",
    "ax= rt1.plot.bar()\n",
    "\n",
    "ax.set_xlabel('Area_Name')\n",
    "ax.set_xlabel('Total Number of Reported Rape Victims from 2001 to 2010')\n",
    "ax.set_title('Statewise total Reported Rape Victims throught the Years 2001 to 2010')\n",
    "plt.show()\n",
    "\n",
    "print(rt1)"
   ]
  },
  {
   "cell_type": "code",
   "execution_count": 51,
   "metadata": {},
   "outputs": [],
   "source": [
    "#Exploring Data for Madhya Pradesh"
   ]
  },
  {
   "cell_type": "code",
   "execution_count": 52,
   "metadata": {},
   "outputs": [],
   "source": [
    "mp_rape_victims = df[df['Area_Name']=='Madhya Pradesh']"
   ]
  },
  {
   "cell_type": "code",
   "execution_count": 53,
   "metadata": {},
   "outputs": [
    {
     "data": {
      "text/html": [
       "<div>\n",
       "<style scoped>\n",
       "    .dataframe tbody tr th:only-of-type {\n",
       "        vertical-align: middle;\n",
       "    }\n",
       "\n",
       "    .dataframe tbody tr th {\n",
       "        vertical-align: top;\n",
       "    }\n",
       "\n",
       "    .dataframe thead th {\n",
       "        text-align: right;\n",
       "    }\n",
       "</style>\n",
       "<table border=\"1\" class=\"dataframe\">\n",
       "  <thead>\n",
       "    <tr style=\"text-align: right;\">\n",
       "      <th></th>\n",
       "      <th>Area_Name</th>\n",
       "      <th>Year</th>\n",
       "      <th>Subgroup</th>\n",
       "      <th>Rape_Cases_Reported</th>\n",
       "      <th>Victims_Above_50_Yrs</th>\n",
       "      <th>Victims_Between_10-14_Yrs</th>\n",
       "      <th>Victims_Between_14-18_Yrs</th>\n",
       "      <th>Victims_Between_18-30_Yrs</th>\n",
       "      <th>Victims_Between_30-50_Yrs</th>\n",
       "      <th>Victims_of_Rape_Total</th>\n",
       "      <th>Victims_Upto_10_Yrs</th>\n",
       "      <th>Unreported_Cases</th>\n",
       "    </tr>\n",
       "  </thead>\n",
       "  <tbody>\n",
       "    <tr>\n",
       "      <th>571</th>\n",
       "      <td>Madhya Pradesh</td>\n",
       "      <td>2001</td>\n",
       "      <td>Victims of Incest Rape</td>\n",
       "      <td>301</td>\n",
       "      <td>0</td>\n",
       "      <td>39</td>\n",
       "      <td>66</td>\n",
       "      <td>130</td>\n",
       "      <td>56</td>\n",
       "      <td>301</td>\n",
       "      <td>10</td>\n",
       "      <td>0</td>\n",
       "    </tr>\n",
       "    <tr>\n",
       "      <th>572</th>\n",
       "      <td>Madhya Pradesh</td>\n",
       "      <td>2001</td>\n",
       "      <td>Victims of Other Rape</td>\n",
       "      <td>2550</td>\n",
       "      <td>27</td>\n",
       "      <td>265</td>\n",
       "      <td>491</td>\n",
       "      <td>1120</td>\n",
       "      <td>571</td>\n",
       "      <td>2550</td>\n",
       "      <td>76</td>\n",
       "      <td>0</td>\n",
       "    </tr>\n",
       "    <tr>\n",
       "      <th>574</th>\n",
       "      <td>Madhya Pradesh</td>\n",
       "      <td>2002</td>\n",
       "      <td>Victims of Incest Rape</td>\n",
       "      <td>72</td>\n",
       "      <td>1</td>\n",
       "      <td>11</td>\n",
       "      <td>16</td>\n",
       "      <td>37</td>\n",
       "      <td>4</td>\n",
       "      <td>72</td>\n",
       "      <td>3</td>\n",
       "      <td>0</td>\n",
       "    </tr>\n",
       "    <tr>\n",
       "      <th>575</th>\n",
       "      <td>Madhya Pradesh</td>\n",
       "      <td>2002</td>\n",
       "      <td>Victims of Other Rape</td>\n",
       "      <td>2819</td>\n",
       "      <td>13</td>\n",
       "      <td>174</td>\n",
       "      <td>236</td>\n",
       "      <td>1512</td>\n",
       "      <td>807</td>\n",
       "      <td>2819</td>\n",
       "      <td>77</td>\n",
       "      <td>0</td>\n",
       "    </tr>\n",
       "    <tr>\n",
       "      <th>577</th>\n",
       "      <td>Madhya Pradesh</td>\n",
       "      <td>2003</td>\n",
       "      <td>Victims of Incest Rape</td>\n",
       "      <td>123</td>\n",
       "      <td>0</td>\n",
       "      <td>10</td>\n",
       "      <td>23</td>\n",
       "      <td>71</td>\n",
       "      <td>16</td>\n",
       "      <td>123</td>\n",
       "      <td>3</td>\n",
       "      <td>0</td>\n",
       "    </tr>\n",
       "  </tbody>\n",
       "</table>\n",
       "</div>"
      ],
      "text/plain": [
       "          Area_Name  Year                Subgroup  Rape_Cases_Reported  \\\n",
       "571  Madhya Pradesh  2001  Victims of Incest Rape                  301   \n",
       "572  Madhya Pradesh  2001   Victims of Other Rape                 2550   \n",
       "574  Madhya Pradesh  2002  Victims of Incest Rape                   72   \n",
       "575  Madhya Pradesh  2002   Victims of Other Rape                 2819   \n",
       "577  Madhya Pradesh  2003  Victims of Incest Rape                  123   \n",
       "\n",
       "     Victims_Above_50_Yrs  Victims_Between_10-14_Yrs  \\\n",
       "571                     0                         39   \n",
       "572                    27                        265   \n",
       "574                     1                         11   \n",
       "575                    13                        174   \n",
       "577                     0                         10   \n",
       "\n",
       "     Victims_Between_14-18_Yrs  Victims_Between_18-30_Yrs  \\\n",
       "571                         66                        130   \n",
       "572                        491                       1120   \n",
       "574                         16                         37   \n",
       "575                        236                       1512   \n",
       "577                         23                         71   \n",
       "\n",
       "     Victims_Between_30-50_Yrs  Victims_of_Rape_Total  Victims_Upto_10_Yrs  \\\n",
       "571                         56                    301                   10   \n",
       "572                        571                   2550                   76   \n",
       "574                          4                     72                    3   \n",
       "575                        807                   2819                   77   \n",
       "577                         16                    123                    3   \n",
       "\n",
       "     Unreported_Cases  \n",
       "571                 0  \n",
       "572                 0  \n",
       "574                 0  \n",
       "575                 0  \n",
       "577                 0  "
      ]
     },
     "execution_count": 53,
     "metadata": {},
     "output_type": "execute_result"
    }
   ],
   "source": [
    "mp_rape_victims.head()"
   ]
  },
  {
   "cell_type": "code",
   "execution_count": 62,
   "metadata": {},
   "outputs": [
    {
     "data": {
      "image/png": "[encoded data removed]",
      "text/plain": [
       "<Figure size 432x288 with 1 Axes>"
      ]
     },
     "metadata": {
      "needs_background": "light"
     },
     "output_type": "display_data"
    }
   ],
   "source": [
    "mp_rape_victims_byyear = mp_rape_victims.groupby('Year').sum()\n",
    "mp_rape_victims_byyear.plot.bar()\n",
    "plt.show()"
   ]
  },
  {
   "cell_type": "code",
   "execution_count": null,
   "metadata": {},
   "outputs": [],
   "source": []
  }
 ],
 "metadata": {
  "kernelspec": {
   "display_name": "Python 3",
   "language": "python",
   "name": "python3"
  },
  "language_info": {
   "codemirror_mode": {
    "name": "ipython",
    "version": 3
   },
   "file_extension": ".py",
   "mimetype": "text/x-python",
   "name": "python",
   "nbconvert_exporter": "python",
   "pygments_lexer": "ipython3",
   "version": "3.7.3"
  }
 },
 "nbformat": 4,
 "nbformat_minor": 2
}
