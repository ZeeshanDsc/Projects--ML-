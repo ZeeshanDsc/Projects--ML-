{
 "cells": [
  {
   "cell_type": "code",
   "execution_count": 2,
   "metadata": {},
   "outputs": [],
   "source": [
    "import pandas as pd\n",
    "from sklearn.model_selection import train_test_split\n",
    "from sklearn.linear_model import LogisticRegression\n",
    "import warnings\n",
    "warnings.filterwarnings('ignore')"
   ]
  },
  {
   "cell_type": "code",
   "execution_count": 4,
   "metadata": {},
   "outputs": [
    {
     "data": {
      "text/html": [
       "<div>\n",
       "<style scoped>\n",
       "    .dataframe tbody tr th:only-of-type {\n",
       "        vertical-align: middle;\n",
       "    }\n",
       "\n",
       "    .dataframe tbody tr th {\n",
       "        vertical-align: top;\n",
       "    }\n",
       "\n",
       "    .dataframe thead th {\n",
       "        text-align: right;\n",
       "    }\n",
       "</style>\n",
       "<table border=\"1\" class=\"dataframe\">\n",
       "  <thead>\n",
       "    <tr style=\"text-align: right;\">\n",
       "      <th></th>\n",
       "      <th>fixed acidity</th>\n",
       "      <th>volatile acidity</th>\n",
       "      <th>citric acid</th>\n",
       "      <th>residual sugar</th>\n",
       "      <th>chlorides</th>\n",
       "      <th>free sulfur dioxide</th>\n",
       "      <th>total sulfur dioxide</th>\n",
       "      <th>density</th>\n",
       "      <th>pH</th>\n",
       "      <th>sulphates</th>\n",
       "      <th>alcohol</th>\n",
       "      <th>quality</th>\n",
       "    </tr>\n",
       "  </thead>\n",
       "  <tbody>\n",
       "    <tr>\n",
       "      <th>0</th>\n",
       "      <td>7.4</td>\n",
       "      <td>0.70</td>\n",
       "      <td>0.00</td>\n",
       "      <td>1.9</td>\n",
       "      <td>0.076</td>\n",
       "      <td>11.0</td>\n",
       "      <td>34.0</td>\n",
       "      <td>0.9978</td>\n",
       "      <td>3.51</td>\n",
       "      <td>0.56</td>\n",
       "      <td>9.4</td>\n",
       "      <td>5</td>\n",
       "    </tr>\n",
       "    <tr>\n",
       "      <th>1</th>\n",
       "      <td>7.8</td>\n",
       "      <td>0.88</td>\n",
       "      <td>0.00</td>\n",
       "      <td>2.6</td>\n",
       "      <td>0.098</td>\n",
       "      <td>25.0</td>\n",
       "      <td>67.0</td>\n",
       "      <td>0.9968</td>\n",
       "      <td>3.20</td>\n",
       "      <td>0.68</td>\n",
       "      <td>9.8</td>\n",
       "      <td>5</td>\n",
       "    </tr>\n",
       "    <tr>\n",
       "      <th>2</th>\n",
       "      <td>7.8</td>\n",
       "      <td>0.76</td>\n",
       "      <td>0.04</td>\n",
       "      <td>2.3</td>\n",
       "      <td>0.092</td>\n",
       "      <td>15.0</td>\n",
       "      <td>54.0</td>\n",
       "      <td>0.9970</td>\n",
       "      <td>3.26</td>\n",
       "      <td>0.65</td>\n",
       "      <td>9.8</td>\n",
       "      <td>5</td>\n",
       "    </tr>\n",
       "    <tr>\n",
       "      <th>3</th>\n",
       "      <td>11.2</td>\n",
       "      <td>0.28</td>\n",
       "      <td>0.56</td>\n",
       "      <td>1.9</td>\n",
       "      <td>0.075</td>\n",
       "      <td>17.0</td>\n",
       "      <td>60.0</td>\n",
       "      <td>0.9980</td>\n",
       "      <td>3.16</td>\n",
       "      <td>0.58</td>\n",
       "      <td>9.8</td>\n",
       "      <td>6</td>\n",
       "    </tr>\n",
       "    <tr>\n",
       "      <th>4</th>\n",
       "      <td>7.4</td>\n",
       "      <td>0.70</td>\n",
       "      <td>0.00</td>\n",
       "      <td>1.9</td>\n",
       "      <td>0.076</td>\n",
       "      <td>11.0</td>\n",
       "      <td>34.0</td>\n",
       "      <td>0.9978</td>\n",
       "      <td>3.51</td>\n",
       "      <td>0.56</td>\n",
       "      <td>9.4</td>\n",
       "      <td>5</td>\n",
       "    </tr>\n",
       "  </tbody>\n",
       "</table>\n",
       "</div>"
      ],
      "text/plain": [
       "   fixed acidity  volatile acidity  citric acid  residual sugar  chlorides  \\\n",
       "0            7.4              0.70         0.00             1.9      0.076   \n",
       "1            7.8              0.88         0.00             2.6      0.098   \n",
       "2            7.8              0.76         0.04             2.3      0.092   \n",
       "3           11.2              0.28         0.56             1.9      0.075   \n",
       "4            7.4              0.70         0.00             1.9      0.076   \n",
       "\n",
       "   free sulfur dioxide  total sulfur dioxide  density    pH  sulphates  \\\n",
       "0                 11.0                  34.0   0.9978  3.51       0.56   \n",
       "1                 25.0                  67.0   0.9968  3.20       0.68   \n",
       "2                 15.0                  54.0   0.9970  3.26       0.65   \n",
       "3                 17.0                  60.0   0.9980  3.16       0.58   \n",
       "4                 11.0                  34.0   0.9978  3.51       0.56   \n",
       "\n",
       "   alcohol  quality  \n",
       "0      9.4        5  \n",
       "1      9.8        5  \n",
       "2      9.8        5  \n",
       "3      9.8        6  \n",
       "4      9.4        5  "
      ]
     },
     "execution_count": 4,
     "metadata": {},
     "output_type": "execute_result"
    }
   ],
   "source": [
    "df = pd.read_csv(\"winequality-red.csv\",sep=\";\")\n",
    "df.head()"
   ]
  },
  {
   "cell_type": "code",
   "execution_count": 6,
   "metadata": {},
   "outputs": [
    {
     "data": {
      "text/html": [
       "<div>\n",
       "<style scoped>\n",
       "    .dataframe tbody tr th:only-of-type {\n",
       "        vertical-align: middle;\n",
       "    }\n",
       "\n",
       "    .dataframe tbody tr th {\n",
       "        vertical-align: top;\n",
       "    }\n",
       "\n",
       "    .dataframe thead th {\n",
       "        text-align: right;\n",
       "    }\n",
       "</style>\n",
       "<table border=\"1\" class=\"dataframe\">\n",
       "  <thead>\n",
       "    <tr style=\"text-align: right;\">\n",
       "      <th></th>\n",
       "      <th>fixed acidity</th>\n",
       "      <th>volatile acidity</th>\n",
       "      <th>citric acid</th>\n",
       "      <th>residual sugar</th>\n",
       "      <th>chlorides</th>\n",
       "      <th>free sulfur dioxide</th>\n",
       "      <th>total sulfur dioxide</th>\n",
       "      <th>density</th>\n",
       "      <th>pH</th>\n",
       "      <th>sulphates</th>\n",
       "      <th>alcohol</th>\n",
       "      <th>quality</th>\n",
       "    </tr>\n",
       "  </thead>\n",
       "  <tbody>\n",
       "    <tr>\n",
       "      <th>0</th>\n",
       "      <td>7.4</td>\n",
       "      <td>0.70</td>\n",
       "      <td>0.00</td>\n",
       "      <td>1.9</td>\n",
       "      <td>0.076</td>\n",
       "      <td>11.0</td>\n",
       "      <td>34.0</td>\n",
       "      <td>0.9978</td>\n",
       "      <td>3.51</td>\n",
       "      <td>0.56</td>\n",
       "      <td>9.4</td>\n",
       "      <td>5</td>\n",
       "    </tr>\n",
       "    <tr>\n",
       "      <th>1</th>\n",
       "      <td>7.8</td>\n",
       "      <td>0.88</td>\n",
       "      <td>0.00</td>\n",
       "      <td>2.6</td>\n",
       "      <td>0.098</td>\n",
       "      <td>25.0</td>\n",
       "      <td>67.0</td>\n",
       "      <td>0.9968</td>\n",
       "      <td>3.20</td>\n",
       "      <td>0.68</td>\n",
       "      <td>9.8</td>\n",
       "      <td>5</td>\n",
       "    </tr>\n",
       "    <tr>\n",
       "      <th>2</th>\n",
       "      <td>7.8</td>\n",
       "      <td>0.76</td>\n",
       "      <td>0.04</td>\n",
       "      <td>2.3</td>\n",
       "      <td>0.092</td>\n",
       "      <td>15.0</td>\n",
       "      <td>54.0</td>\n",
       "      <td>0.9970</td>\n",
       "      <td>3.26</td>\n",
       "      <td>0.65</td>\n",
       "      <td>9.8</td>\n",
       "      <td>5</td>\n",
       "    </tr>\n",
       "    <tr>\n",
       "      <th>3</th>\n",
       "      <td>11.2</td>\n",
       "      <td>0.28</td>\n",
       "      <td>0.56</td>\n",
       "      <td>1.9</td>\n",
       "      <td>0.075</td>\n",
       "      <td>17.0</td>\n",
       "      <td>60.0</td>\n",
       "      <td>0.9980</td>\n",
       "      <td>3.16</td>\n",
       "      <td>0.58</td>\n",
       "      <td>9.8</td>\n",
       "      <td>6</td>\n",
       "    </tr>\n",
       "    <tr>\n",
       "      <th>4</th>\n",
       "      <td>7.4</td>\n",
       "      <td>0.70</td>\n",
       "      <td>0.00</td>\n",
       "      <td>1.9</td>\n",
       "      <td>0.076</td>\n",
       "      <td>11.0</td>\n",
       "      <td>34.0</td>\n",
       "      <td>0.9978</td>\n",
       "      <td>3.51</td>\n",
       "      <td>0.56</td>\n",
       "      <td>9.4</td>\n",
       "      <td>5</td>\n",
       "    </tr>\n",
       "  </tbody>\n",
       "</table>\n",
       "</div>"
      ],
      "text/plain": [
       "   fixed acidity  volatile acidity  citric acid  residual sugar  chlorides  \\\n",
       "0            7.4              0.70         0.00             1.9      0.076   \n",
       "1            7.8              0.88         0.00             2.6      0.098   \n",
       "2            7.8              0.76         0.04             2.3      0.092   \n",
       "3           11.2              0.28         0.56             1.9      0.075   \n",
       "4            7.4              0.70         0.00             1.9      0.076   \n",
       "\n",
       "   free sulfur dioxide  total sulfur dioxide  density    pH  sulphates  \\\n",
       "0                 11.0                  34.0   0.9978  3.51       0.56   \n",
       "1                 25.0                  67.0   0.9968  3.20       0.68   \n",
       "2                 15.0                  54.0   0.9970  3.26       0.65   \n",
       "3                 17.0                  60.0   0.9980  3.16       0.58   \n",
       "4                 11.0                  34.0   0.9978  3.51       0.56   \n",
       "\n",
       "   alcohol  quality  \n",
       "0      9.4        5  \n",
       "1      9.8        5  \n",
       "2      9.8        5  \n",
       "3      9.8        6  \n",
       "4      9.4        5  "
      ]
     },
     "execution_count": 6,
     "metadata": {},
     "output_type": "execute_result"
    }
   ],
   "source": [
    "df = pd.DataFrame(data = df)\n",
    "df.head()"
   ]
  },
  {
   "cell_type": "code",
   "execution_count": 7,
   "metadata": {},
   "outputs": [],
   "source": [
    "df['grade'] = 1 # good\n",
    "df.grade[df.quality < 7] = 0 # not good quality of wine"
   ]
  },
  {
   "cell_type": "code",
   "execution_count": 16,
   "metadata": {},
   "outputs": [
    {
     "data": {
      "image/png": "[encoded data removed]",
      "text/plain": [
       "<Figure size 504x504 with 1 Axes>"
      ]
     },
     "metadata": {},
     "output_type": "display_data"
    },
    {
     "name": "stdout",
     "output_type": "stream",
     "text": [
      "The good quality wines count for 13.6 %.\n"
     ]
    }
   ],
   "source": [
    "import matplotlib.pyplot as plt\n",
    "plt.figure(figsize=(7,7))\n",
    "labels= df.grade.value_counts().index\n",
    "plt.pie(df.grade.value_counts(), autopct='%1.1f%%')\n",
    "plt.legend(labels, loc=\"best\")\n",
    "\n",
    "plt.title(\"Quality pie chart\")\n",
    "plt.show()\n",
    "print('The good quality wines count for',round(df.grade.value_counts(normalize=True)[1]*100,1),'%.')"
   ]
  },
  {
   "cell_type": "code",
   "execution_count": 18,
   "metadata": {},
   "outputs": [],
   "source": [
    "import numpy as np\n",
    "from scipy.stats import zscore\n",
    "z = np.abs(zscore(df))\n",
    "thresholds = 3\n",
    "df = df[(z<3).all(axis=1)]"
   ]
  },
  {
   "cell_type": "code",
   "execution_count": 19,
   "metadata": {},
   "outputs": [
    {
     "data": {
      "text/plain": [
       "(1451, 13)"
      ]
     },
     "execution_count": 19,
     "metadata": {},
     "output_type": "execute_result"
    }
   ],
   "source": [
    "df.shape"
   ]
  },
  {
   "cell_type": "code",
   "execution_count": 20,
   "metadata": {},
   "outputs": [
    {
     "data": {
      "text/html": [
       "<div>\n",
       "<style scoped>\n",
       "    .dataframe tbody tr th:only-of-type {\n",
       "        vertical-align: middle;\n",
       "    }\n",
       "\n",
       "    .dataframe tbody tr th {\n",
       "        vertical-align: top;\n",
       "    }\n",
       "\n",
       "    .dataframe thead th {\n",
       "        text-align: right;\n",
       "    }\n",
       "</style>\n",
       "<table border=\"1\" class=\"dataframe\">\n",
       "  <thead>\n",
       "    <tr style=\"text-align: right;\">\n",
       "      <th></th>\n",
       "      <th>fixed acidity</th>\n",
       "      <th>volatile acidity</th>\n",
       "      <th>citric acid</th>\n",
       "      <th>residual sugar</th>\n",
       "      <th>chlorides</th>\n",
       "      <th>free sulfur dioxide</th>\n",
       "      <th>total sulfur dioxide</th>\n",
       "      <th>density</th>\n",
       "      <th>pH</th>\n",
       "      <th>sulphates</th>\n",
       "      <th>alcohol</th>\n",
       "      <th>quality</th>\n",
       "      <th>grade</th>\n",
       "    </tr>\n",
       "  </thead>\n",
       "  <tbody>\n",
       "    <tr>\n",
       "      <th>fixed acidity</th>\n",
       "      <td>1.000000</td>\n",
       "      <td>-0.297150</td>\n",
       "      <td>0.698363</td>\n",
       "      <td>0.180293</td>\n",
       "      <td>0.183549</td>\n",
       "      <td>-0.148815</td>\n",
       "      <td>-0.099928</td>\n",
       "      <td>0.659927</td>\n",
       "      <td>-0.705572</td>\n",
       "      <td>0.200371</td>\n",
       "      <td>-0.015114</td>\n",
       "      <td>0.145163</td>\n",
       "      <td>0.125791</td>\n",
       "    </tr>\n",
       "    <tr>\n",
       "      <th>volatile acidity</th>\n",
       "      <td>-0.297150</td>\n",
       "      <td>1.000000</td>\n",
       "      <td>-0.589452</td>\n",
       "      <td>0.025977</td>\n",
       "      <td>0.072709</td>\n",
       "      <td>0.013943</td>\n",
       "      <td>0.110338</td>\n",
       "      <td>-0.004957</td>\n",
       "      <td>0.251343</td>\n",
       "      <td>-0.348126</td>\n",
       "      <td>-0.213213</td>\n",
       "      <td>-0.353443</td>\n",
       "      <td>-0.267836</td>\n",
       "    </tr>\n",
       "    <tr>\n",
       "      <th>citric acid</th>\n",
       "      <td>0.698363</td>\n",
       "      <td>-0.589452</td>\n",
       "      <td>1.000000</td>\n",
       "      <td>0.184960</td>\n",
       "      <td>0.100361</td>\n",
       "      <td>-0.074441</td>\n",
       "      <td>0.005301</td>\n",
       "      <td>0.371729</td>\n",
       "      <td>-0.520311</td>\n",
       "      <td>0.302815</td>\n",
       "      <td>0.168766</td>\n",
       "      <td>0.243999</td>\n",
       "      <td>0.227633</td>\n",
       "    </tr>\n",
       "    <tr>\n",
       "      <th>residual sugar</th>\n",
       "      <td>0.180293</td>\n",
       "      <td>0.025977</td>\n",
       "      <td>0.184960</td>\n",
       "      <td>1.000000</td>\n",
       "      <td>0.126735</td>\n",
       "      <td>-0.000844</td>\n",
       "      <td>0.095093</td>\n",
       "      <td>0.344801</td>\n",
       "      <td>-0.075140</td>\n",
       "      <td>0.076129</td>\n",
       "      <td>0.162533</td>\n",
       "      <td>0.061482</td>\n",
       "      <td>0.117036</td>\n",
       "    </tr>\n",
       "    <tr>\n",
       "      <th>chlorides</th>\n",
       "      <td>0.183549</td>\n",
       "      <td>0.072709</td>\n",
       "      <td>0.100361</td>\n",
       "      <td>0.126735</td>\n",
       "      <td>1.000000</td>\n",
       "      <td>-0.058163</td>\n",
       "      <td>0.045025</td>\n",
       "      <td>0.328695</td>\n",
       "      <td>-0.182841</td>\n",
       "      <td>0.022107</td>\n",
       "      <td>-0.205414</td>\n",
       "      <td>-0.108787</td>\n",
       "      <td>-0.112080</td>\n",
       "    </tr>\n",
       "    <tr>\n",
       "      <th>free sulfur dioxide</th>\n",
       "      <td>-0.148815</td>\n",
       "      <td>0.013943</td>\n",
       "      <td>-0.074441</td>\n",
       "      <td>-0.000844</td>\n",
       "      <td>-0.058163</td>\n",
       "      <td>1.000000</td>\n",
       "      <td>0.660188</td>\n",
       "      <td>-0.037630</td>\n",
       "      <td>0.108831</td>\n",
       "      <td>0.055956</td>\n",
       "      <td>-0.077993</td>\n",
       "      <td>-0.071202</td>\n",
       "      <td>-0.086402</td>\n",
       "    </tr>\n",
       "    <tr>\n",
       "      <th>total sulfur dioxide</th>\n",
       "      <td>-0.099928</td>\n",
       "      <td>0.110338</td>\n",
       "      <td>0.005301</td>\n",
       "      <td>0.095093</td>\n",
       "      <td>0.045025</td>\n",
       "      <td>0.660188</td>\n",
       "      <td>1.000000</td>\n",
       "      <td>0.118965</td>\n",
       "      <td>-0.005940</td>\n",
       "      <td>-0.039024</td>\n",
       "      <td>-0.259952</td>\n",
       "      <td>-0.237745</td>\n",
       "      <td>-0.172638</td>\n",
       "    </tr>\n",
       "    <tr>\n",
       "      <th>density</th>\n",
       "      <td>0.659927</td>\n",
       "      <td>-0.004957</td>\n",
       "      <td>0.371729</td>\n",
       "      <td>0.344801</td>\n",
       "      <td>0.328695</td>\n",
       "      <td>-0.037630</td>\n",
       "      <td>0.118965</td>\n",
       "      <td>1.000000</td>\n",
       "      <td>-0.312310</td>\n",
       "      <td>0.129896</td>\n",
       "      <td>-0.468312</td>\n",
       "      <td>-0.167568</td>\n",
       "      <td>-0.153031</td>\n",
       "    </tr>\n",
       "    <tr>\n",
       "      <th>pH</th>\n",
       "      <td>-0.705572</td>\n",
       "      <td>0.251343</td>\n",
       "      <td>-0.520311</td>\n",
       "      <td>-0.075140</td>\n",
       "      <td>-0.182841</td>\n",
       "      <td>0.108831</td>\n",
       "      <td>-0.005940</td>\n",
       "      <td>-0.312310</td>\n",
       "      <td>1.000000</td>\n",
       "      <td>-0.039082</td>\n",
       "      <td>0.135624</td>\n",
       "      <td>-0.082164</td>\n",
       "      <td>-0.079105</td>\n",
       "    </tr>\n",
       "    <tr>\n",
       "      <th>sulphates</th>\n",
       "      <td>0.200371</td>\n",
       "      <td>-0.348126</td>\n",
       "      <td>0.302815</td>\n",
       "      <td>0.076129</td>\n",
       "      <td>0.022107</td>\n",
       "      <td>0.055956</td>\n",
       "      <td>-0.039024</td>\n",
       "      <td>0.129896</td>\n",
       "      <td>-0.039082</td>\n",
       "      <td>1.000000</td>\n",
       "      <td>0.241636</td>\n",
       "      <td>0.386567</td>\n",
       "      <td>0.310432</td>\n",
       "    </tr>\n",
       "    <tr>\n",
       "      <th>alcohol</th>\n",
       "      <td>-0.015114</td>\n",
       "      <td>-0.213213</td>\n",
       "      <td>0.168766</td>\n",
       "      <td>0.162533</td>\n",
       "      <td>-0.205414</td>\n",
       "      <td>-0.077993</td>\n",
       "      <td>-0.259952</td>\n",
       "      <td>-0.468312</td>\n",
       "      <td>0.135624</td>\n",
       "      <td>0.241636</td>\n",
       "      <td>1.000000</td>\n",
       "      <td>0.501501</td>\n",
       "      <td>0.430906</td>\n",
       "    </tr>\n",
       "    <tr>\n",
       "      <th>quality</th>\n",
       "      <td>0.145163</td>\n",
       "      <td>-0.353443</td>\n",
       "      <td>0.243999</td>\n",
       "      <td>0.061482</td>\n",
       "      <td>-0.108787</td>\n",
       "      <td>-0.071202</td>\n",
       "      <td>-0.237745</td>\n",
       "      <td>-0.167568</td>\n",
       "      <td>-0.082164</td>\n",
       "      <td>0.386567</td>\n",
       "      <td>0.501501</td>\n",
       "      <td>1.000000</td>\n",
       "      <td>0.728804</td>\n",
       "    </tr>\n",
       "    <tr>\n",
       "      <th>grade</th>\n",
       "      <td>0.125791</td>\n",
       "      <td>-0.267836</td>\n",
       "      <td>0.227633</td>\n",
       "      <td>0.117036</td>\n",
       "      <td>-0.112080</td>\n",
       "      <td>-0.086402</td>\n",
       "      <td>-0.172638</td>\n",
       "      <td>-0.153031</td>\n",
       "      <td>-0.079105</td>\n",
       "      <td>0.310432</td>\n",
       "      <td>0.430906</td>\n",
       "      <td>0.728804</td>\n",
       "      <td>1.000000</td>\n",
       "    </tr>\n",
       "  </tbody>\n",
       "</table>\n",
       "</div>"
      ],
      "text/plain": [
       "                      fixed acidity  volatile acidity  citric acid  \\\n",
       "fixed acidity              1.000000         -0.297150     0.698363   \n",
       "volatile acidity          -0.297150          1.000000    -0.589452   \n",
       "citric acid                0.698363         -0.589452     1.000000   \n",
       "residual sugar             0.180293          0.025977     0.184960   \n",
       "chlorides                  0.183549          0.072709     0.100361   \n",
       "free sulfur dioxide       -0.148815          0.013943    -0.074441   \n",
       "total sulfur dioxide      -0.099928          0.110338     0.005301   \n",
       "density                    0.659927         -0.004957     0.371729   \n",
       "pH                        -0.705572          0.251343    -0.520311   \n",
       "sulphates                  0.200371         -0.348126     0.302815   \n",
       "alcohol                   -0.015114         -0.213213     0.168766   \n",
       "quality                    0.145163         -0.353443     0.243999   \n",
       "grade                      0.125791         -0.267836     0.227633   \n",
       "\n",
       "                      residual sugar  chlorides  free sulfur dioxide  \\\n",
       "fixed acidity               0.180293   0.183549            -0.148815   \n",
       "volatile acidity            0.025977   0.072709             0.013943   \n",
       "citric acid                 0.184960   0.100361            -0.074441   \n",
       "residual sugar              1.000000   0.126735            -0.000844   \n",
       "chlorides                   0.126735   1.000000            -0.058163   \n",
       "free sulfur dioxide        -0.000844  -0.058163             1.000000   \n",
       "total sulfur dioxide        0.095093   0.045025             0.660188   \n",
       "density                     0.344801   0.328695            -0.037630   \n",
       "pH                         -0.075140  -0.182841             0.108831   \n",
       "sulphates                   0.076129   0.022107             0.055956   \n",
       "alcohol                     0.162533  -0.205414            -0.077993   \n",
       "quality                     0.061482  -0.108787            -0.071202   \n",
       "grade                       0.117036  -0.112080            -0.086402   \n",
       "\n",
       "                      total sulfur dioxide   density        pH  sulphates  \\\n",
       "fixed acidity                    -0.099928  0.659927 -0.705572   0.200371   \n",
       "volatile acidity                  0.110338 -0.004957  0.251343  -0.348126   \n",
       "citric acid                       0.005301  0.371729 -0.520311   0.302815   \n",
       "residual sugar                    0.095093  0.344801 -0.075140   0.076129   \n",
       "chlorides                         0.045025  0.328695 -0.182841   0.022107   \n",
       "free sulfur dioxide               0.660188 -0.037630  0.108831   0.055956   \n",
       "total sulfur dioxide              1.000000  0.118965 -0.005940  -0.039024   \n",
       "density                           0.118965  1.000000 -0.312310   0.129896   \n",
       "pH                               -0.005940 -0.312310  1.000000  -0.039082   \n",
       "sulphates                        -0.039024  0.129896 -0.039082   1.000000   \n",
       "alcohol                          -0.259952 -0.468312  0.135624   0.241636   \n",
       "quality                          -0.237745 -0.167568 -0.082164   0.386567   \n",
       "grade                            -0.172638 -0.153031 -0.079105   0.310432   \n",
       "\n",
       "                       alcohol   quality     grade  \n",
       "fixed acidity        -0.015114  0.145163  0.125791  \n",
       "volatile acidity     -0.213213 -0.353443 -0.267836  \n",
       "citric acid           0.168766  0.243999  0.227633  \n",
       "residual sugar        0.162533  0.061482  0.117036  \n",
       "chlorides            -0.205414 -0.108787 -0.112080  \n",
       "free sulfur dioxide  -0.077993 -0.071202 -0.086402  \n",
       "total sulfur dioxide -0.259952 -0.237745 -0.172638  \n",
       "density              -0.468312 -0.167568 -0.153031  \n",
       "pH                    0.135624 -0.082164 -0.079105  \n",
       "sulphates             0.241636  0.386567  0.310432  \n",
       "alcohol               1.000000  0.501501  0.430906  \n",
       "quality               0.501501  1.000000  0.728804  \n",
       "grade                 0.430906  0.728804  1.000000  "
      ]
     },
     "execution_count": 20,
     "metadata": {},
     "output_type": "execute_result"
    }
   ],
   "source": [
    "dfcorr = df.corr()\n",
    "dfcorr"
   ]
  },
  {
   "cell_type": "code",
   "execution_count": 21,
   "metadata": {},
   "outputs": [],
   "source": [
    "import seaborn as sns"
   ]
  },
  {
   "cell_type": "code",
   "execution_count": 22,
   "metadata": {},
   "outputs": [
    {
     "data": {
      "text/plain": [
       "<matplotlib.axes._subplots.AxesSubplot at 0x1768998db00>"
      ]
     },
     "execution_count": 22,
     "metadata": {},
     "output_type": "execute_result"
    },
    {
     "data": {
      "image/png": "[encoded data removed]",
      "text/plain": [
       "<Figure size 432x288 with 2 Axes>"
      ]
     },
     "metadata": {
      "needs_background": "light"
     },
     "output_type": "display_data"
    }
   ],
   "source": [
    "sns.heatmap(df.isnull())"
   ]
  },
  {
   "cell_type": "code",
   "execution_count": 23,
   "metadata": {},
   "outputs": [
    {
     "data": {
      "image/png": "[encoded data removed]",
      "text/plain": [
       "<Figure size 720x720 with 2 Axes>"
      ]
     },
     "metadata": {
      "needs_background": "light"
     },
     "output_type": "display_data"
    }
   ],
   "source": [
    "plt.figure(figsize=(10,10))\n",
    "sns.heatmap(dfcorr, cmap=\"Reds\", annot = True)\n",
    "plt.title(\"Correlation among features\",  y = 1.05,fontsize = 25)\n",
    "plt.show()"
   ]
  },
  {
   "cell_type": "code",
   "execution_count": 25,
   "metadata": {},
   "outputs": [],
   "source": [
    "x = df.iloc[:, 0:-2].values"
   ]
  },
  {
   "cell_type": "code",
   "execution_count": 26,
   "metadata": {},
   "outputs": [],
   "source": [
    "y = df.iloc[:,-2]"
   ]
  },
  {
   "cell_type": "code",
   "execution_count": 27,
   "metadata": {},
   "outputs": [],
   "source": [
    "from sklearn.model_selection import train_test_split\n",
    "x_train,x_test,y_train,y_test=train_test_split(x,y, test_size=.33, random_state=47)\n"
   ]
  },
  {
   "cell_type": "code",
   "execution_count": 28,
   "metadata": {},
   "outputs": [],
   "source": [
    "from sklearn.tree import DecisionTreeClassifier\n",
    "dtc = DecisionTreeClassifier()"
   ]
  },
  {
   "cell_type": "code",
   "execution_count": 29,
   "metadata": {},
   "outputs": [
    {
     "data": {
      "text/plain": [
       "1.0"
      ]
     },
     "execution_count": 29,
     "metadata": {},
     "output_type": "execute_result"
    }
   ],
   "source": [
    "dtc.fit(x_train,y_train)\n",
    "dtc.score(x_train,y_train)"
   ]
  },
  {
   "cell_type": "code",
   "execution_count": 30,
   "metadata": {},
   "outputs": [],
   "source": [
    "pred = dtc.predict(x_test)"
   ]
  },
  {
   "cell_type": "code",
   "execution_count": 31,
   "metadata": {},
   "outputs": [
    {
     "data": {
      "text/plain": [
       "array([6, 7, 5, 5, 6, 5, 6, 5, 6, 5, 5, 6, 5, 7, 5, 5, 6, 5, 5, 5, 4, 5,\n",
       "       7, 5, 5, 6, 5, 7, 6, 5, 5, 6, 5, 5, 5, 5, 5, 7, 5, 6, 5, 5, 5, 5,\n",
       "       5, 5, 6, 7, 6, 6, 6, 5, 6, 5, 6, 5, 6, 6, 6, 6, 6, 7, 5, 6, 5, 5,\n",
       "       6, 5, 6, 6, 7, 7, 5, 7, 5, 6, 5, 5, 6, 7, 6, 6, 5, 5, 5, 6, 6, 7,\n",
       "       5, 5, 6, 6, 6, 7, 8, 5, 7, 6, 5, 6, 5, 5, 6, 6, 5, 6, 5, 6, 6, 5,\n",
       "       7, 6, 4, 6, 6, 5, 5, 6, 6, 5, 7, 5, 6, 5, 5, 7, 5, 6, 5, 5, 6, 6,\n",
       "       5, 6, 5, 5, 6, 5, 6, 6, 6, 6, 5, 6, 6, 5, 6, 5, 4, 7, 6, 5, 5, 5,\n",
       "       5, 5, 6, 5, 5, 5, 7, 6, 6, 7, 5, 7, 6, 5, 7, 5, 6, 6, 5, 6, 5, 6,\n",
       "       5, 5, 6, 6, 5, 4, 5, 5, 6, 6, 7, 5, 6, 5, 5, 5, 5, 6, 5, 5, 6, 6,\n",
       "       6, 6, 5, 6, 7, 6, 6, 5, 6, 7, 5, 5, 6, 6, 7, 6, 5, 6, 6, 6, 6, 7,\n",
       "       6, 7, 6, 5, 7, 5, 5, 5, 5, 6, 5, 6, 5, 5, 6, 7, 5, 5, 6, 6, 5, 7,\n",
       "       7, 5, 5, 6, 5, 6, 6, 7, 6, 7, 7, 6, 6, 7, 5, 6, 5, 5, 6, 6, 5, 5,\n",
       "       5, 7, 5, 5, 6, 6, 6, 5, 6, 5, 6, 5, 6, 5, 6, 6, 6, 6, 6, 6, 5, 5,\n",
       "       5, 6, 5, 5, 5, 6, 7, 6, 5, 5, 5, 5, 5, 5, 5, 5, 6, 7, 7, 5, 6, 5,\n",
       "       6, 5, 5, 6, 6, 6, 7, 6, 5, 6, 6, 7, 5, 5, 7, 6, 6, 4, 5, 6, 6, 6,\n",
       "       5, 7, 5, 6, 6, 5, 5, 4, 5, 7, 5, 5, 5, 5, 7, 5, 5, 6, 5, 5, 6, 5,\n",
       "       6, 5, 5, 7, 5, 6, 6, 5, 6, 7, 5, 5, 5, 6, 7, 5, 8, 5, 5, 4, 4, 6,\n",
       "       6, 6, 5, 5, 5, 6, 5, 5, 5, 5, 5, 6, 6, 7, 5, 6, 5, 6, 5, 5, 6, 6,\n",
       "       5, 7, 5, 6, 5, 5, 5, 5, 7, 5, 5, 5, 6, 7, 6, 5, 5, 5, 5, 5, 5, 6,\n",
       "       6, 6, 5, 7, 5, 5, 5, 7, 6, 6, 5, 7, 5, 5, 6, 7, 7, 6, 7, 5, 6, 6,\n",
       "       5, 5, 4, 5, 7, 6, 5, 6, 5, 7, 5, 6, 5, 5, 5, 6, 4, 6, 5, 6, 6, 5,\n",
       "       6, 6, 5, 5, 6, 6, 7, 6, 6, 5, 6, 6, 5, 6, 6, 5, 5], dtype=int64)"
      ]
     },
     "execution_count": 31,
     "metadata": {},
     "output_type": "execute_result"
    }
   ],
   "source": [
    "pred"
   ]
  },
  {
   "cell_type": "code",
   "execution_count": 33,
   "metadata": {},
   "outputs": [
    {
     "name": "stdout",
     "output_type": "stream",
     "text": [
      "0.6304801670146137\n",
      "[[  1  11   2   0   0]\n",
      " [  4 149  51   5   0]\n",
      " [  4  53 110  14   1]\n",
      " [  1   8  19  41   0]\n",
      " [  0   2   0   2   1]]\n",
      "              precision    recall  f1-score   support\n",
      "\n",
      "           4       0.10      0.07      0.08        14\n",
      "           5       0.67      0.71      0.69       209\n",
      "           6       0.60      0.60      0.60       182\n",
      "           7       0.66      0.59      0.63        69\n",
      "           8       0.50      0.20      0.29         5\n",
      "\n",
      "   micro avg       0.63      0.63      0.63       479\n",
      "   macro avg       0.51      0.44      0.46       479\n",
      "weighted avg       0.62      0.63      0.63       479\n",
      "\n"
     ]
    }
   ],
   "source": [
    "from sklearn.metrics import accuracy_score, confusion_matrix, classification_report\n",
    "print(accuracy_score(y_test, pred))\n",
    "print(confusion_matrix(y_test, pred))\n",
    "print(classification_report(y_test, pred))"
   ]
  },
  {
   "cell_type": "code",
   "execution_count": 37,
   "metadata": {},
   "outputs": [],
   "source": [
    "from sklearn.metrics import roc_auc_score, roc_curve"
   ]
  },
  {
   "cell_type": "code",
   "execution_count": 39,
   "metadata": {},
   "outputs": [],
   "source": [
    "dt= dtc.predict_proba(x_test)[:, 0]"
   ]
  },
  {
   "cell_type": "code",
   "execution_count": 40,
   "metadata": {},
   "outputs": [
    {
     "ename": "ValueError",
     "evalue": "multiclass format is not supported",
     "output_type": "error",
     "traceback": [
      "\u001b[1;31m---------------------------------------------------------------------------\u001b[0m",
      "\u001b[1;31mValueError\u001b[0m                                Traceback (most recent call last)",
      "\u001b[1;32m<ipython-input-40-a103dccefe5a>\u001b[0m in \u001b[0;36m<module>\u001b[1;34m\u001b[0m\n\u001b[1;32m----> 1\u001b[1;33m \u001b[0mtpr\u001b[0m\u001b[1;33m,\u001b[0m\u001b[0mfpr\u001b[0m\u001b[1;33m,\u001b[0m\u001b[0m_\u001b[0m\u001b[1;33m=\u001b[0m \u001b[0mroc_curve\u001b[0m\u001b[1;33m(\u001b[0m\u001b[0my_test\u001b[0m\u001b[1;33m,\u001b[0m \u001b[0mdt\u001b[0m\u001b[1;33m)\u001b[0m\u001b[1;33m\u001b[0m\u001b[1;33m\u001b[0m\u001b[0m\n\u001b[0m",
      "\u001b[1;32mC:\\ProgramData\\Anaconda3\\lib\\site-packages\\sklearn\\metrics\\ranking.py\u001b[0m in \u001b[0;36mroc_curve\u001b[1;34m(y_true, y_score, pos_label, sample_weight, drop_intermediate)\u001b[0m\n\u001b[0;32m    616\u001b[0m     \"\"\"\n\u001b[0;32m    617\u001b[0m     fps, tps, thresholds = _binary_clf_curve(\n\u001b[1;32m--> 618\u001b[1;33m         y_true, y_score, pos_label=pos_label, sample_weight=sample_weight)\n\u001b[0m\u001b[0;32m    619\u001b[0m \u001b[1;33m\u001b[0m\u001b[0m\n\u001b[0;32m    620\u001b[0m     \u001b[1;31m# Attempt to drop thresholds corresponding to points in between and\u001b[0m\u001b[1;33m\u001b[0m\u001b[1;33m\u001b[0m\u001b[1;33m\u001b[0m\u001b[0m\n",
      "\u001b[1;32mC:\\ProgramData\\Anaconda3\\lib\\site-packages\\sklearn\\metrics\\ranking.py\u001b[0m in \u001b[0;36m_binary_clf_curve\u001b[1;34m(y_true, y_score, pos_label, sample_weight)\u001b[0m\n\u001b[0;32m    395\u001b[0m     if not (y_type == \"binary\" or\n\u001b[0;32m    396\u001b[0m             (y_type == \"multiclass\" and pos_label is not None)):\n\u001b[1;32m--> 397\u001b[1;33m         \u001b[1;32mraise\u001b[0m \u001b[0mValueError\u001b[0m\u001b[1;33m(\u001b[0m\u001b[1;34m\"{0} format is not supported\"\u001b[0m\u001b[1;33m.\u001b[0m\u001b[0mformat\u001b[0m\u001b[1;33m(\u001b[0m\u001b[0my_type\u001b[0m\u001b[1;33m)\u001b[0m\u001b[1;33m)\u001b[0m\u001b[1;33m\u001b[0m\u001b[1;33m\u001b[0m\u001b[0m\n\u001b[0m\u001b[0;32m    398\u001b[0m \u001b[1;33m\u001b[0m\u001b[0m\n\u001b[0;32m    399\u001b[0m     \u001b[0mcheck_consistent_length\u001b[0m\u001b[1;33m(\u001b[0m\u001b[0my_true\u001b[0m\u001b[1;33m,\u001b[0m \u001b[0my_score\u001b[0m\u001b[1;33m,\u001b[0m \u001b[0msample_weight\u001b[0m\u001b[1;33m)\u001b[0m\u001b[1;33m\u001b[0m\u001b[1;33m\u001b[0m\u001b[0m\n",
      "\u001b[1;31mValueError\u001b[0m: multiclass format is not supported"
     ]
    }
   ],
   "source": [
    "tpr,fpr,_= roc_curve(y_test, dt)"
   ]
  },
  {
   "cell_type": "code",
   "execution_count": null,
   "metadata": {},
   "outputs": [],
   "source": []
  }
 ],
 "metadata": {
  "kernelspec": {
   "display_name": "Python 3",
   "language": "python",
   "name": "python3"
  },
  "language_info": {
   "codemirror_mode": {
    "name": "ipython",
    "version": 3
   },
   "file_extension": ".py",
   "mimetype": "text/x-python",
   "name": "python",
   "nbconvert_exporter": "python",
   "pygments_lexer": "ipython3",
   "version": "3.7.3"
  }
 },
 "nbformat": 4,
 "nbformat_minor": 2
}
